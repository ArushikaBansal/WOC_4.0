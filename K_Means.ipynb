{
  "nbformat": 4,
  "nbformat_minor": 0,
  "metadata": {
    "colab": {
      "name": "K-Means.ipynb",
      "provenance": []
    },
    "kernelspec": {
      "name": "python3",
      "display_name": "Python 3"
    },
    "language_info": {
      "name": "python"
    }
  },
  "cells": [
    {
      "cell_type": "markdown",
      "source": [
        "# WOC 4.0\n",
        ">> ### Machine Learning\n",
        ">>>> ###### IIT(ISM) Dhanabad\n",
        ">>>> ###### Arushika"
      ],
      "metadata": {
        "id": "UdzzRoc0xKGE"
      }
    },
    {
      "cell_type": "markdown",
      "source": [
        ">> ## K-means Clustering"
      ],
      "metadata": {
        "id": "bgX80hWKxUFr"
      }
    },
    {
      "cell_type": "code",
      "execution_count": 1,
      "metadata": {
        "id": "laoPO4FyvpUp"
      },
      "outputs": [],
      "source": [
        "import pandas as pd \n",
        "import numpy as np \n",
        "import matplotlib.pyplot as pp\n",
        "import random as rd"
      ]
    },
    {
      "cell_type": "code",
      "source": [
        "data = pd.read_csv('emnist-letters-train.csv')\n",
        "data = np.array(data)"
      ],
      "metadata": {
        "id": "cSxcGy4RwsiL"
      },
      "execution_count": 2,
      "outputs": []
    },
    {
      "cell_type": "code",
      "source": [
        "# Seperating Labels and its corresponding values \n",
        "\n",
        "# For labels\n",
        "y = data[:,0:1]\n",
        "# Seperating x features\n",
        "X = data[:,1:785]\n",
        "\n",
        "m,n = X.shape\n",
        "n_iters = 100"
      ],
      "metadata": {
        "id": "EHRtjJVQwsfy"
      },
      "execution_count": 3,
      "outputs": []
    },
    {
      "cell_type": "code",
      "source": [
        "# Number of clusters\n",
        "K =26"
      ],
      "metadata": {
        "id": "PpcqNFRNwsdU"
      },
      "execution_count": 4,
      "outputs": []
    },
    {
      "cell_type": "code",
      "source": [
        "#Centroids is a n x K dimentional matrix, where each column will be a centroid for one cluster.\n",
        "Centroids=np.array([]).reshape(n,0) "
      ],
      "metadata": {
        "id": "-DCzsweOwsas"
      },
      "execution_count": 5,
      "outputs": []
    },
    {
      "cell_type": "code",
      "source": [
        "for i in range(K):\n",
        "    rand=rd.randint(0,m-1)\n",
        "    Centroids=np.c_[Centroids,X[rand]]"
      ],
      "metadata": {
        "id": "TX5taZI3wsYW"
      },
      "execution_count": 6,
      "outputs": []
    },
    {
      "cell_type": "code",
      "source": [
        "Output={}\n",
        "\n",
        "EuclidianDistance=np.array([]).reshape(m,0)\n",
        "for k in range(K):\n",
        "      tempDist=np.sum((X-Centroids[:,k])**2,axis=1)\n",
        "      EuclidianDistance=np.c_[EuclidianDistance,tempDist]\n",
        "      C=np.argmin(EuclidianDistance,axis=1)"
      ],
      "metadata": {
        "id": "S8tiQ9EkwsVy"
      },
      "execution_count": 7,
      "outputs": []
    },
    {
      "cell_type": "code",
      "source": [
        "C.reshape(m,1)"
      ],
      "metadata": {
        "colab": {
          "base_uri": "https://localhost:8080/"
        },
        "id": "D6WZV17awsTL",
        "outputId": "4014ad1f-05e3-48bf-cf9f-df4f4a11ebec"
      },
      "execution_count": 9,
      "outputs": [
        {
          "output_type": "execute_result",
          "data": {
            "text/plain": [
              "array([[ 7],\n",
              "       [10],\n",
              "       [ 7],\n",
              "       ...,\n",
              "       [19],\n",
              "       [ 0],\n",
              "       [18]])"
            ]
          },
          "metadata": {},
          "execution_count": 9
        }
      ]
    },
    {
      "cell_type": "code",
      "source": [
        "for i in range(n_iters):\n",
        "     #step 2.a\n",
        "      EuclidianDistance=np.array([]).reshape(m,0)\n",
        "      for k in range(K):\n",
        "          tempDist=np.sum((X-Centroids[:,k])**2,axis=1)\n",
        "          EuclidianDistance=np.c_[EuclidianDistance,tempDist]\n",
        "      C=np.argmin(EuclidianDistance,axis=1)+1\n",
        "     #step 2.b\n",
        "      Y={}\n",
        "      for k in range(K):\n",
        "          Y[k+1]=np.array([]).reshape(784,0)\n",
        "      for i in range(m):\n",
        "          Y[C[i]]=np.c_[Y[C[i]],X[i]]\n",
        "     \n",
        "      for k in range(K):\n",
        "          Y[k+1]=Y[k+1].T\n",
        "    \n",
        "      for k in range(K):\n",
        "          Centroids[:,k]=np.mean(Y[k+1],axis=0)\n",
        "      Output=Y"
      ],
      "metadata": {
        "id": "1S7lBGqRwsQC"
      },
      "execution_count": null,
      "outputs": []
    },
    {
      "cell_type": "code",
      "source": [
        "Y"
      ],
      "metadata": {
        "id": "mjWAzbo2xC-K"
      },
      "execution_count": null,
      "outputs": []
    }
  ]
}