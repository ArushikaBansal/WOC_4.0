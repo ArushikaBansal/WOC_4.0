{
  "cells": [
    {
      "cell_type": "markdown",
      "metadata": {
        "id": "piFX_maitgnE"
      },
      "source": [
        "# WOC 4.0\n",
        ">> ### Machine Learning\n",
        ">>>> ###### IIT(ISM) Dhanabad\n",
        ">>>> ###### Arushika"
      ]
    },
    {
      "cell_type": "markdown",
      "metadata": {
        "id": "YHgMrkYJt4Gu"
      },
      "source": [
        "## Polynomial regression"
      ]
    },
    {
      "cell_type": "markdown",
      "metadata": {
        "id": "bC0W4PR05VFh"
      },
      "source": [
        ">> ### Training set"
      ]
    },
    {
      "cell_type": "code",
      "execution_count": 1,
      "metadata": {
        "id": "kcY9B-nlt-pk"
      },
      "outputs": [],
      "source": [
        "# Importing libraries needed for the project\n",
        "import numpy as np\n",
        "import pandas as pd\n",
        "import matplotlib.pyplot as pp"
      ]
    },
    {
      "cell_type": "code",
      "execution_count": 2,
      "metadata": {
        "colab": {
          "base_uri": "https://localhost:8080/",
          "height": 423
        },
        "id": "Wb0TtU2HuFWk",
        "outputId": "57bff0b4-0cb5-4837-9d70-0fed6b6731fd"
      },
      "outputs": [
        {
          "output_type": "execute_result",
          "data": {
            "text/plain": [
              "       Unnamed: 0         X         Y         Z        label\n",
              "0               0  0.643715 -9.866550 -5.836019   307.972927\n",
              "1               1 -1.366446 -3.761945 -8.756162   136.398375\n",
              "2               2 -4.090270 -1.836218 -1.846066  -310.724813\n",
              "3               3 -8.730478 -1.923651  3.892972     1.755447\n",
              "4               4  5.367169  0.358357  6.703989  -343.582590\n",
              "...           ...       ...       ...       ...          ...\n",
              "49995       49995  2.693877 -1.362685 -7.392968   683.405727\n",
              "49996       49996 -9.270188 -5.456920 -2.343480 -1874.385403\n",
              "49997       49997  6.616753 -2.847288 -0.504040   663.873655\n",
              "49998       49998  3.558199  4.507526 -4.823674  -421.004005\n",
              "49999       49999  0.623431  8.863234 -3.231040  -699.718682\n",
              "\n",
              "[50000 rows x 5 columns]"
            ],
            "text/html": [
              "\n",
              "  <div id=\"df-7cd4164a-d21c-4b40-be73-51262ef36c6b\">\n",
              "    <div class=\"colab-df-container\">\n",
              "      <div>\n",
              "<style scoped>\n",
              "    .dataframe tbody tr th:only-of-type {\n",
              "        vertical-align: middle;\n",
              "    }\n",
              "\n",
              "    .dataframe tbody tr th {\n",
              "        vertical-align: top;\n",
              "    }\n",
              "\n",
              "    .dataframe thead th {\n",
              "        text-align: right;\n",
              "    }\n",
              "</style>\n",
              "<table border=\"1\" class=\"dataframe\">\n",
              "  <thead>\n",
              "    <tr style=\"text-align: right;\">\n",
              "      <th></th>\n",
              "      <th>Unnamed: 0</th>\n",
              "      <th>X</th>\n",
              "      <th>Y</th>\n",
              "      <th>Z</th>\n",
              "      <th>label</th>\n",
              "    </tr>\n",
              "  </thead>\n",
              "  <tbody>\n",
              "    <tr>\n",
              "      <th>0</th>\n",
              "      <td>0</td>\n",
              "      <td>0.643715</td>\n",
              "      <td>-9.866550</td>\n",
              "      <td>-5.836019</td>\n",
              "      <td>307.972927</td>\n",
              "    </tr>\n",
              "    <tr>\n",
              "      <th>1</th>\n",
              "      <td>1</td>\n",
              "      <td>-1.366446</td>\n",
              "      <td>-3.761945</td>\n",
              "      <td>-8.756162</td>\n",
              "      <td>136.398375</td>\n",
              "    </tr>\n",
              "    <tr>\n",
              "      <th>2</th>\n",
              "      <td>2</td>\n",
              "      <td>-4.090270</td>\n",
              "      <td>-1.836218</td>\n",
              "      <td>-1.846066</td>\n",
              "      <td>-310.724813</td>\n",
              "    </tr>\n",
              "    <tr>\n",
              "      <th>3</th>\n",
              "      <td>3</td>\n",
              "      <td>-8.730478</td>\n",
              "      <td>-1.923651</td>\n",
              "      <td>3.892972</td>\n",
              "      <td>1.755447</td>\n",
              "    </tr>\n",
              "    <tr>\n",
              "      <th>4</th>\n",
              "      <td>4</td>\n",
              "      <td>5.367169</td>\n",
              "      <td>0.358357</td>\n",
              "      <td>6.703989</td>\n",
              "      <td>-343.582590</td>\n",
              "    </tr>\n",
              "    <tr>\n",
              "      <th>...</th>\n",
              "      <td>...</td>\n",
              "      <td>...</td>\n",
              "      <td>...</td>\n",
              "      <td>...</td>\n",
              "      <td>...</td>\n",
              "    </tr>\n",
              "    <tr>\n",
              "      <th>49995</th>\n",
              "      <td>49995</td>\n",
              "      <td>2.693877</td>\n",
              "      <td>-1.362685</td>\n",
              "      <td>-7.392968</td>\n",
              "      <td>683.405727</td>\n",
              "    </tr>\n",
              "    <tr>\n",
              "      <th>49996</th>\n",
              "      <td>49996</td>\n",
              "      <td>-9.270188</td>\n",
              "      <td>-5.456920</td>\n",
              "      <td>-2.343480</td>\n",
              "      <td>-1874.385403</td>\n",
              "    </tr>\n",
              "    <tr>\n",
              "      <th>49997</th>\n",
              "      <td>49997</td>\n",
              "      <td>6.616753</td>\n",
              "      <td>-2.847288</td>\n",
              "      <td>-0.504040</td>\n",
              "      <td>663.873655</td>\n",
              "    </tr>\n",
              "    <tr>\n",
              "      <th>49998</th>\n",
              "      <td>49998</td>\n",
              "      <td>3.558199</td>\n",
              "      <td>4.507526</td>\n",
              "      <td>-4.823674</td>\n",
              "      <td>-421.004005</td>\n",
              "    </tr>\n",
              "    <tr>\n",
              "      <th>49999</th>\n",
              "      <td>49999</td>\n",
              "      <td>0.623431</td>\n",
              "      <td>8.863234</td>\n",
              "      <td>-3.231040</td>\n",
              "      <td>-699.718682</td>\n",
              "    </tr>\n",
              "  </tbody>\n",
              "</table>\n",
              "<p>50000 rows × 5 columns</p>\n",
              "</div>\n",
              "      <button class=\"colab-df-convert\" onclick=\"convertToInteractive('df-7cd4164a-d21c-4b40-be73-51262ef36c6b')\"\n",
              "              title=\"Convert this dataframe to an interactive table.\"\n",
              "              style=\"display:none;\">\n",
              "        \n",
              "  <svg xmlns=\"http://www.w3.org/2000/svg\" height=\"24px\"viewBox=\"0 0 24 24\"\n",
              "       width=\"24px\">\n",
              "    <path d=\"M0 0h24v24H0V0z\" fill=\"none\"/>\n",
              "    <path d=\"M18.56 5.44l.94 2.06.94-2.06 2.06-.94-2.06-.94-.94-2.06-.94 2.06-2.06.94zm-11 1L8.5 8.5l.94-2.06 2.06-.94-2.06-.94L8.5 2.5l-.94 2.06-2.06.94zm10 10l.94 2.06.94-2.06 2.06-.94-2.06-.94-.94-2.06-.94 2.06-2.06.94z\"/><path d=\"M17.41 7.96l-1.37-1.37c-.4-.4-.92-.59-1.43-.59-.52 0-1.04.2-1.43.59L10.3 9.45l-7.72 7.72c-.78.78-.78 2.05 0 2.83L4 21.41c.39.39.9.59 1.41.59.51 0 1.02-.2 1.41-.59l7.78-7.78 2.81-2.81c.8-.78.8-2.07 0-2.86zM5.41 20L4 18.59l7.72-7.72 1.47 1.35L5.41 20z\"/>\n",
              "  </svg>\n",
              "      </button>\n",
              "      \n",
              "  <style>\n",
              "    .colab-df-container {\n",
              "      display:flex;\n",
              "      flex-wrap:wrap;\n",
              "      gap: 12px;\n",
              "    }\n",
              "\n",
              "    .colab-df-convert {\n",
              "      background-color: #E8F0FE;\n",
              "      border: none;\n",
              "      border-radius: 50%;\n",
              "      cursor: pointer;\n",
              "      display: none;\n",
              "      fill: #1967D2;\n",
              "      height: 32px;\n",
              "      padding: 0 0 0 0;\n",
              "      width: 32px;\n",
              "    }\n",
              "\n",
              "    .colab-df-convert:hover {\n",
              "      background-color: #E2EBFA;\n",
              "      box-shadow: 0px 1px 2px rgba(60, 64, 67, 0.3), 0px 1px 3px 1px rgba(60, 64, 67, 0.15);\n",
              "      fill: #174EA6;\n",
              "    }\n",
              "\n",
              "    [theme=dark] .colab-df-convert {\n",
              "      background-color: #3B4455;\n",
              "      fill: #D2E3FC;\n",
              "    }\n",
              "\n",
              "    [theme=dark] .colab-df-convert:hover {\n",
              "      background-color: #434B5C;\n",
              "      box-shadow: 0px 1px 3px 1px rgba(0, 0, 0, 0.15);\n",
              "      filter: drop-shadow(0px 1px 2px rgba(0, 0, 0, 0.3));\n",
              "      fill: #FFFFFF;\n",
              "    }\n",
              "  </style>\n",
              "\n",
              "      <script>\n",
              "        const buttonEl =\n",
              "          document.querySelector('#df-7cd4164a-d21c-4b40-be73-51262ef36c6b button.colab-df-convert');\n",
              "        buttonEl.style.display =\n",
              "          google.colab.kernel.accessAllowed ? 'block' : 'none';\n",
              "\n",
              "        async function convertToInteractive(key) {\n",
              "          const element = document.querySelector('#df-7cd4164a-d21c-4b40-be73-51262ef36c6b');\n",
              "          const dataTable =\n",
              "            await google.colab.kernel.invokeFunction('convertToInteractive',\n",
              "                                                     [key], {});\n",
              "          if (!dataTable) return;\n",
              "\n",
              "          const docLinkHtml = 'Like what you see? Visit the ' +\n",
              "            '<a target=\"_blank\" href=https://colab.research.google.com/notebooks/data_table.ipynb>data table notebook</a>'\n",
              "            + ' to learn more about interactive tables.';\n",
              "          element.innerHTML = '';\n",
              "          dataTable['output_type'] = 'display_data';\n",
              "          await google.colab.output.renderOutput(dataTable, element);\n",
              "          const docLink = document.createElement('div');\n",
              "          docLink.innerHTML = docLinkHtml;\n",
              "          element.appendChild(docLink);\n",
              "        }\n",
              "      </script>\n",
              "    </div>\n",
              "  </div>\n",
              "  "
            ]
          },
          "metadata": {},
          "execution_count": 2
        }
      ],
      "source": [
        "# Loading dataset \n",
        "data = pd.read_csv('Polynomial_train.csv')\n",
        "data"
      ]
    },
    {
      "cell_type": "markdown",
      "metadata": {
        "id": "yuthU9YaFUTQ"
      },
      "source": [
        "The Algorithm\n",
        "* Modify the hypothesis function of Linear Regression according to the data you have.\n",
        "* Add new higher (whichever) degree features you want to the input.\n",
        "* Do the Gradient Descent/mini-batch Gradient Descent to the modified input to find the parameters — weights and bias.\n"
      ]
    },
    {
      "cell_type": "code",
      "source": [
        "data = (data - data.mean())/data.std()"
      ],
      "metadata": {
        "id": "GUycha2DqY7e"
      },
      "execution_count": 3,
      "outputs": []
    },
    {
      "cell_type": "code",
      "execution_count": 4,
      "metadata": {
        "id": "GeUcz8B-Hb-k"
      },
      "outputs": [],
      "source": [
        "# Seperating the x and y matrices\n",
        "\n",
        "# Like in the training set\n",
        "# X-matrice is supposed to be a m x (n+1) dimensional matrice\n",
        "# where n = Number of different features present \n",
        "#       m = Number of enteries in each feature\n",
        "x= data.iloc[:,1:2].values # for m x 1 dimensional \n",
        "\n",
        "# y-matrice is supposed to be a m x 1 dimensional matrice \n",
        "Y = data.iloc[:,2:3].values\n",
        "\n",
        "# z-matrice is supposed to be a m x 1 dimensional matrice\n",
        "Z = data.iloc[:,3:4].values\n",
        "\n",
        "features = data.iloc[:,1:4].values\n",
        "\n",
        "# Label matrices is supposed to a m x 1 dimensional matrice\n",
        "Label_1 = data.iloc[:,4:5].values"
      ]
    },
    {
      "cell_type": "markdown",
      "metadata": {
        "id": "wgbrJQR8yHu5"
      },
      "source": [
        "` Hypothesis function` for polynomial regression will seem like this:\n",
        "\n",
        "<b> h_theta (x,y,z) = theta_0 + theta_1 * x + theta_2 * y + theta_3 * z + theta_4 * x^2 + theta_5 * y^2 + theta_6 * z^2 + theta_7 * xy + theta_8 * yz + theta_9 * zx + theta_10 * x^3 + theta_11 * y^3 + theta_12 * z^3 + theta_13 * x^2(y) + theta_14 * x^2(z) + theta_15 * y^2(z) + theta_16 * y^2(x) + theta_17 * z^2(x) + theta_18 * z^2(y)+ theta_19 * xyz"
      ]
    },
    {
      "cell_type": "code",
      "execution_count": 5,
      "metadata": {
        "id": "_CH2qYuN2FRF"
      },
      "outputs": [],
      "source": [
        "# Here we will construct the features matrix(X_5). \n",
        "# First we will create the individual columns and then append them together.\n",
        "\n",
        "# x_0 for simplicity is considered to be 1 matrices.\n",
        "ones = np.ones([x.shape[0],1]) #Dimension is m x 1\n",
        "x_0 = ones\n",
        "\n",
        "# x_1 is simply the x feature given in the dataset\n",
        "x_1 = x\n",
        "\n",
        "# x_2 is simply the y feature given in the dataset\n",
        "x_2 = Y\n",
        "\n",
        "# x_3 is simply the z feature given in the dataset\n",
        "x_3 = Z\n",
        "\n",
        "# x_4 is square of the x feature given in the dataset\n",
        "x_4 = x**2\n",
        "\n",
        "# x_5 is square of the y feature given in the dataset \n",
        "x_5 = Y**2\n",
        "\n",
        "# x_6 is square of the z feature given in the dataset \n",
        "x_6 = Z**2\n",
        "\n",
        "# x_7 is the multiplycation of x and y matrice \n",
        "x_7 = x*(Y)\n",
        "\n",
        "# x_8 is the multiplication of y and z matrice \n",
        "x_8 = Y*(Z)\n",
        "\n",
        "# x_9 is the multiplication of z and x matrice\n",
        "x_9 = Z*(x)\n",
        "\n",
        "# x_10 is the cube of the x feature given in the dataset\n",
        "x_10 = x**3\n",
        "\n",
        "# x_11 is the cube of the y feature given in the dataset\n",
        "x_11 = Y**3\n",
        "\n",
        "# x_12 is the cube of the z feature given in the dataset\n",
        "x_12 = Z**3\n",
        "\n",
        "# x_13 is the multiplication of square of x and y matrice\n",
        "x_13 = (x**2)*Y\n",
        "\n",
        "# x_14 is the multiplication of square of x and z matrice\n",
        "x_14 = (x**2)*Z\n",
        "\n",
        "# x_15 is the multplication of square of y and x matrice\n",
        "x_15 = (Y**2)*x\n",
        "\n",
        "# x_16 is the multiplication of square of y and z matrice\n",
        "x_16 = (Y**2)*Z\n",
        "\n",
        "# x_17 is the multiplication of square of z and x matrice\n",
        "x_17 = (Z**2)*x\n",
        "\n",
        "# x_18 is the multiplication of square of z and y matrice \n",
        "x_18 = (Z**2)*Y\n",
        "\n",
        "# x_19 is the multiplcation of all three features givven in the dataset x,y and z\n",
        "x_19 = (x*Y)*Z"
      ]
    },
    {
      "cell_type": "code",
      "execution_count": 6,
      "metadata": {
        "colab": {
          "base_uri": "https://localhost:8080/"
        },
        "id": "b3NaRih6-kLx",
        "outputId": "9ec32764-2d1b-4e79-807a-0582110be4c0"
      },
      "outputs": [
        {
          "output_type": "stream",
          "name": "stdout",
          "text": [
            "[[ 1.          0.1057533  -1.69738613 ...  0.10797556 -1.73305432\n",
            "   0.1813804 ]\n",
            " [ 1.         -0.2427338  -0.64326391 ... -0.55714537 -1.47647961\n",
            "  -0.23655851]\n",
            " [ 1.         -0.71494348 -0.31073582 ... -0.07368195 -0.03202438\n",
            "  -0.07131941]\n",
            " ...\n",
            " [ 1.          1.1412558  -0.48532404 ...  0.00906858 -0.00385646\n",
            "   0.0493734 ]\n",
            " [ 1.          0.61101634  0.78468006 ...  0.42655612  0.54779235\n",
            "  -0.40059647]\n",
            " [ 1.          0.10223675  1.53680881 ...  0.03210022  0.48252616\n",
            "  -0.08803946]]\n"
          ]
        }
      ],
      "source": [
        "# Appending the featueres together\n",
        "X1 = np.concatenate((x_0,x_1,x_2,x_3,x_4,x_5,x_6,x_7,x_8,x_9,x_10,x_11,x_12,x_13,x_14,x_15,x_16,x_17,x_18,x_19),axis=1)\n",
        "X1 = np.asarray(X1)\n",
        "print(X1)"
      ]
    },
    {
      "cell_type": "code",
      "source": [
        "X1.shape"
      ],
      "metadata": {
        "colab": {
          "base_uri": "https://localhost:8080/"
        },
        "id": "TTHA_1a0apul",
        "outputId": "572f5288-7076-462a-9fe2-f73a9e6a2c91"
      },
      "execution_count": 7,
      "outputs": [
        {
          "output_type": "execute_result",
          "data": {
            "text/plain": [
              "(50000, 20)"
            ]
          },
          "metadata": {},
          "execution_count": 7
        }
      ]
    },
    {
      "cell_type": "code",
      "execution_count": 8,
      "metadata": {
        "id": "VaVEsmkaAe3I"
      },
      "outputs": [],
      "source": [
        "# Matrice of theta(coefficient of the features in hypothesis function) is supposed to a 1 x (n+1) dimensional matrice\n",
        "theta = np.zeros([1,20])"
      ]
    },
    {
      "cell_type": "code",
      "source": [
        "#@title Setting Hyperparameters\n",
        "Alpha = 0.0015 #@param {type:\"slider\", min:0, max:1, step:0.01}\n",
        "iters = 1200 #@param {type:\"slider\", min:100, max:3000, step:100}\n",
        "alpha_3 = Alpha\n",
        "iters_3 = iters"
      ],
      "metadata": {
        "id": "HnK0ohbkii1l"
      },
      "execution_count": 91,
      "outputs": []
    },
    {
      "cell_type": "code",
      "source": [
        "#Defining Cost function\n",
        "def computeCost(X,y,theta):\n",
        "    tobesummed = np.power(((X @ theta.T)-y),2)\n",
        "    return np.sum(tobesummed)/(2 * len(X))"
      ],
      "metadata": {
        "id": "Gcc1uoGqsS5f"
      },
      "execution_count": 92,
      "outputs": []
    },
    {
      "cell_type": "code",
      "source": [
        "#Defining gradient descent\n",
        "def gradientDescent(X,y,theta,iters,alpha):\n",
        "    cost = np.zeros(iters)\n",
        "    for i in range(iters):\n",
        "        theta = theta - (alpha/len(X)) * np.sum(X * (X @ theta.T - y), axis=0)\n",
        "        cost[i] = computeCost(X, y, theta)\n",
        "    \n",
        "    return theta,cost"
      ],
      "metadata": {
        "id": "2lijThdWsTct"
      },
      "execution_count": 93,
      "outputs": []
    },
    {
      "cell_type": "code",
      "execution_count": 94,
      "metadata": {
        "id": "BteM8a_HAYOO",
        "colab": {
          "base_uri": "https://localhost:8080/"
        },
        "outputId": "9bca4071-c176-462b-ff3c-913472f7022b"
      },
      "outputs": [
        {
          "output_type": "stream",
          "name": "stdout",
          "text": [
            "[[-5.10909647e-03  2.03975302e-03 -1.24836278e-03 -3.03204123e-03\n",
            "   2.15717463e-02 -1.06865962e-01  8.28434608e-02 -7.38995076e-01\n",
            "   1.64933847e-01 -3.24882778e-01  3.73292220e-03 -1.66596609e-03\n",
            "  -6.90895252e-04  1.88343047e-03  5.34941106e-04 -1.93441179e-03\n",
            "   2.01254239e-03 -7.63185624e-04  1.14422015e-04 -7.65883200e-04]]\n",
            "0.014045599419497666\n"
          ]
        }
      ],
      "source": [
        "#running the gd and cost function\n",
        "g,cost = gradientDescent(X1,Label_1,theta,iters_3,alpha_3)\n",
        "print(g)\n",
        "\n",
        "finalCost = computeCost(X1,Label_1,g)\n",
        "print(finalCost)"
      ]
    },
    {
      "cell_type": "code",
      "execution_count": 95,
      "metadata": {
        "colab": {
          "base_uri": "https://localhost:8080/",
          "height": 312
        },
        "id": "_KkWVjtUBZZo",
        "outputId": "7a1ab338-2660-40bf-ec7b-814909fbed64"
      },
      "outputs": [
        {
          "output_type": "execute_result",
          "data": {
            "text/plain": [
              "Text(0.5, 1.0, 'Error vs. Training Epoch')"
            ]
          },
          "metadata": {},
          "execution_count": 95
        },
        {
          "output_type": "display_data",
          "data": {
            "text/plain": [
              "<Figure size 432x288 with 1 Axes>"
            ],
            "image/png": "[encoded data removed]"
          },
          "metadata": {
            "needs_background": "light"
          }
        }
      ],
      "source": [
        "#plot the cost\n",
        "fig, ax = pp.subplots()  \n",
        "ax.plot(np.arange(iters), cost, 'r')  \n",
        "ax.set_xlabel('Iterations')  \n",
        "ax.set_ylabel('Cost')  \n",
        "ax.set_title('Error vs. Training Epoch')"
      ]
    },
    {
      "cell_type": "markdown",
      "metadata": {
        "id": "pQLlTaKxB0Yp"
      },
      "source": [
        "### Test Set"
      ]
    },
    {
      "cell_type": "code",
      "execution_count": 96,
      "metadata": {
        "colab": {
          "base_uri": "https://localhost:8080/",
          "height": 423
        },
        "id": "YE74MQ2kCFKO",
        "outputId": "f99535d8-c8d4-4f8d-9ef9-35774c6baa59"
      },
      "outputs": [
        {
          "output_type": "execute_result",
          "data": {
            "text/plain": [
              "      Unnamed: 0         X         Y         Z        label\n",
              "0              0  9.322078  0.413096  5.984731  -657.669309\n",
              "1              1  2.811964  6.142752  6.419237  -545.362524\n",
              "2              2 -2.669784  7.775091 -6.931907   -75.044187\n",
              "3              3 -6.992156 -9.205548  0.852580 -2403.124902\n",
              "4              4  1.574294 -2.213266  6.029188     8.595325\n",
              "...          ...       ...       ...       ...          ...\n",
              "9995        9995 -0.992449 -7.853677  7.748156  -635.006038\n",
              "9996        9996  8.574451  6.271919 -5.734962 -1275.855209\n",
              "9997        9997  6.640997  6.864877  4.511685 -1771.640694\n",
              "9998        9998 -6.262414  1.323203 -3.917748   -22.746921\n",
              "9999        9999  8.289792 -0.371541  2.099039   -64.853446\n",
              "\n",
              "[10000 rows x 5 columns]"
            ],
            "text/html": [
              "\n",
              "  <div id=\"df-f57884f0-dbb4-4279-9d34-8daa73cdddc8\">\n",
              "    <div class=\"colab-df-container\">\n",
              "      <div>\n",
              "<style scoped>\n",
              "    .dataframe tbody tr th:only-of-type {\n",
              "        vertical-align: middle;\n",
              "    }\n",
              "\n",
              "    .dataframe tbody tr th {\n",
              "        vertical-align: top;\n",
              "    }\n",
              "\n",
              "    .dataframe thead th {\n",
              "        text-align: right;\n",
              "    }\n",
              "</style>\n",
              "<table border=\"1\" class=\"dataframe\">\n",
              "  <thead>\n",
              "    <tr style=\"text-align: right;\">\n",
              "      <th></th>\n",
              "      <th>Unnamed: 0</th>\n",
              "      <th>X</th>\n",
              "      <th>Y</th>\n",
              "      <th>Z</th>\n",
              "      <th>label</th>\n",
              "    </tr>\n",
              "  </thead>\n",
              "  <tbody>\n",
              "    <tr>\n",
              "      <th>0</th>\n",
              "      <td>0</td>\n",
              "      <td>9.322078</td>\n",
              "      <td>0.413096</td>\n",
              "      <td>5.984731</td>\n",
              "      <td>-657.669309</td>\n",
              "    </tr>\n",
              "    <tr>\n",
              "      <th>1</th>\n",
              "      <td>1</td>\n",
              "      <td>2.811964</td>\n",
              "      <td>6.142752</td>\n",
              "      <td>6.419237</td>\n",
              "      <td>-545.362524</td>\n",
              "    </tr>\n",
              "    <tr>\n",
              "      <th>2</th>\n",
              "      <td>2</td>\n",
              "      <td>-2.669784</td>\n",
              "      <td>7.775091</td>\n",
              "      <td>-6.931907</td>\n",
              "      <td>-75.044187</td>\n",
              "    </tr>\n",
              "    <tr>\n",
              "      <th>3</th>\n",
              "      <td>3</td>\n",
              "      <td>-6.992156</td>\n",
              "      <td>-9.205548</td>\n",
              "      <td>0.852580</td>\n",
              "      <td>-2403.124902</td>\n",
              "    </tr>\n",
              "    <tr>\n",
              "      <th>4</th>\n",
              "      <td>4</td>\n",
              "      <td>1.574294</td>\n",
              "      <td>-2.213266</td>\n",
              "      <td>6.029188</td>\n",
              "      <td>8.595325</td>\n",
              "    </tr>\n",
              "    <tr>\n",
              "      <th>...</th>\n",
              "      <td>...</td>\n",
              "      <td>...</td>\n",
              "      <td>...</td>\n",
              "      <td>...</td>\n",
              "      <td>...</td>\n",
              "    </tr>\n",
              "    <tr>\n",
              "      <th>9995</th>\n",
              "      <td>9995</td>\n",
              "      <td>-0.992449</td>\n",
              "      <td>-7.853677</td>\n",
              "      <td>7.748156</td>\n",
              "      <td>-635.006038</td>\n",
              "    </tr>\n",
              "    <tr>\n",
              "      <th>9996</th>\n",
              "      <td>9996</td>\n",
              "      <td>8.574451</td>\n",
              "      <td>6.271919</td>\n",
              "      <td>-5.734962</td>\n",
              "      <td>-1275.855209</td>\n",
              "    </tr>\n",
              "    <tr>\n",
              "      <th>9997</th>\n",
              "      <td>9997</td>\n",
              "      <td>6.640997</td>\n",
              "      <td>6.864877</td>\n",
              "      <td>4.511685</td>\n",
              "      <td>-1771.640694</td>\n",
              "    </tr>\n",
              "    <tr>\n",
              "      <th>9998</th>\n",
              "      <td>9998</td>\n",
              "      <td>-6.262414</td>\n",
              "      <td>1.323203</td>\n",
              "      <td>-3.917748</td>\n",
              "      <td>-22.746921</td>\n",
              "    </tr>\n",
              "    <tr>\n",
              "      <th>9999</th>\n",
              "      <td>9999</td>\n",
              "      <td>8.289792</td>\n",
              "      <td>-0.371541</td>\n",
              "      <td>2.099039</td>\n",
              "      <td>-64.853446</td>\n",
              "    </tr>\n",
              "  </tbody>\n",
              "</table>\n",
              "<p>10000 rows × 5 columns</p>\n",
              "</div>\n",
              "      <button class=\"colab-df-convert\" onclick=\"convertToInteractive('df-f57884f0-dbb4-4279-9d34-8daa73cdddc8')\"\n",
              "              title=\"Convert this dataframe to an interactive table.\"\n",
              "              style=\"display:none;\">\n",
              "        \n",
              "  <svg xmlns=\"http://www.w3.org/2000/svg\" height=\"24px\"viewBox=\"0 0 24 24\"\n",
              "       width=\"24px\">\n",
              "    <path d=\"M0 0h24v24H0V0z\" fill=\"none\"/>\n",
              "    <path d=\"M18.56 5.44l.94 2.06.94-2.06 2.06-.94-2.06-.94-.94-2.06-.94 2.06-2.06.94zm-11 1L8.5 8.5l.94-2.06 2.06-.94-2.06-.94L8.5 2.5l-.94 2.06-2.06.94zm10 10l.94 2.06.94-2.06 2.06-.94-2.06-.94-.94-2.06-.94 2.06-2.06.94z\"/><path d=\"M17.41 7.96l-1.37-1.37c-.4-.4-.92-.59-1.43-.59-.52 0-1.04.2-1.43.59L10.3 9.45l-7.72 7.72c-.78.78-.78 2.05 0 2.83L4 21.41c.39.39.9.59 1.41.59.51 0 1.02-.2 1.41-.59l7.78-7.78 2.81-2.81c.8-.78.8-2.07 0-2.86zM5.41 20L4 18.59l7.72-7.72 1.47 1.35L5.41 20z\"/>\n",
              "  </svg>\n",
              "      </button>\n",
              "      \n",
              "  <style>\n",
              "    .colab-df-container {\n",
              "      display:flex;\n",
              "      flex-wrap:wrap;\n",
              "      gap: 12px;\n",
              "    }\n",
              "\n",
              "    .colab-df-convert {\n",
              "      background-color: #E8F0FE;\n",
              "      border: none;\n",
              "      border-radius: 50%;\n",
              "      cursor: pointer;\n",
              "      display: none;\n",
              "      fill: #1967D2;\n",
              "      height: 32px;\n",
              "      padding: 0 0 0 0;\n",
              "      width: 32px;\n",
              "    }\n",
              "\n",
              "    .colab-df-convert:hover {\n",
              "      background-color: #E2EBFA;\n",
              "      box-shadow: 0px 1px 2px rgba(60, 64, 67, 0.3), 0px 1px 3px 1px rgba(60, 64, 67, 0.15);\n",
              "      fill: #174EA6;\n",
              "    }\n",
              "\n",
              "    [theme=dark] .colab-df-convert {\n",
              "      background-color: #3B4455;\n",
              "      fill: #D2E3FC;\n",
              "    }\n",
              "\n",
              "    [theme=dark] .colab-df-convert:hover {\n",
              "      background-color: #434B5C;\n",
              "      box-shadow: 0px 1px 3px 1px rgba(0, 0, 0, 0.15);\n",
              "      filter: drop-shadow(0px 1px 2px rgba(0, 0, 0, 0.3));\n",
              "      fill: #FFFFFF;\n",
              "    }\n",
              "  </style>\n",
              "\n",
              "      <script>\n",
              "        const buttonEl =\n",
              "          document.querySelector('#df-f57884f0-dbb4-4279-9d34-8daa73cdddc8 button.colab-df-convert');\n",
              "        buttonEl.style.display =\n",
              "          google.colab.kernel.accessAllowed ? 'block' : 'none';\n",
              "\n",
              "        async function convertToInteractive(key) {\n",
              "          const element = document.querySelector('#df-f57884f0-dbb4-4279-9d34-8daa73cdddc8');\n",
              "          const dataTable =\n",
              "            await google.colab.kernel.invokeFunction('convertToInteractive',\n",
              "                                                     [key], {});\n",
              "          if (!dataTable) return;\n",
              "\n",
              "          const docLinkHtml = 'Like what you see? Visit the ' +\n",
              "            '<a target=\"_blank\" href=https://colab.research.google.com/notebooks/data_table.ipynb>data table notebook</a>'\n",
              "            + ' to learn more about interactive tables.';\n",
              "          element.innerHTML = '';\n",
              "          dataTable['output_type'] = 'display_data';\n",
              "          await google.colab.output.renderOutput(dataTable, element);\n",
              "          const docLink = document.createElement('div');\n",
              "          docLink.innerHTML = docLinkHtml;\n",
              "          element.appendChild(docLink);\n",
              "        }\n",
              "      </script>\n",
              "    </div>\n",
              "  </div>\n",
              "  "
            ]
          },
          "metadata": {},
          "execution_count": 96
        }
      ],
      "source": [
        "data_ = pd.read_csv('Polynomial_test.csv')\n",
        "data_"
      ]
    },
    {
      "cell_type": "markdown",
      "metadata": {
        "id": "vSFcZ1KmChcp"
      },
      "source": [
        "Normalizing the dataset "
      ]
    },
    {
      "cell_type": "code",
      "source": [
        "data_ = (data_ - data_.mean()) / data_.std()\n",
        "data_"
      ],
      "metadata": {
        "colab": {
          "base_uri": "https://localhost:8080/",
          "height": 423
        },
        "id": "Ejp6cn5Iq1hX",
        "outputId": "2d876b29-14a7-4b2e-fc77-8c839473b9a1"
      },
      "execution_count": 97,
      "outputs": [
        {
          "output_type": "execute_result",
          "data": {
            "text/plain": [
              "      Unnamed: 0         X         Y         Z     label\n",
              "0      -1.731791  1.602895  0.057199  1.034578 -0.563902\n",
              "1      -1.731445  0.474656  1.049657  1.109700 -0.470760\n",
              "2      -1.731098 -0.475360  1.332401 -1.198596 -0.080700\n",
              "3      -1.730752 -1.224451 -1.608887  0.147274 -2.011504\n",
              "4      -1.730405  0.260161 -0.397724  1.042264 -0.011333\n",
              "...          ...       ...       ...       ...       ...\n",
              "9995    1.730405 -0.184669 -1.374724  1.339458 -0.545107\n",
              "9996    1.730752  1.473327  1.072031 -0.991655 -1.076598\n",
              "9997    1.731098  1.138249  1.174739  0.779901 -1.487780\n",
              "9998    1.731445 -1.097983  0.214842 -0.677474 -0.037327\n",
              "9999    1.731791  1.423994 -0.078711  0.362776 -0.072248\n",
              "\n",
              "[10000 rows x 5 columns]"
            ],
            "text/html": [
              "\n",
              "  <div id=\"df-218948a9-2699-4feb-9ecd-48bc82c98a10\">\n",
              "    <div class=\"colab-df-container\">\n",
              "      <div>\n",
              "<style scoped>\n",
              "    .dataframe tbody tr th:only-of-type {\n",
              "        vertical-align: middle;\n",
              "    }\n",
              "\n",
              "    .dataframe tbody tr th {\n",
              "        vertical-align: top;\n",
              "    }\n",
              "\n",
              "    .dataframe thead th {\n",
              "        text-align: right;\n",
              "    }\n",
              "</style>\n",
              "<table border=\"1\" class=\"dataframe\">\n",
              "  <thead>\n",
              "    <tr style=\"text-align: right;\">\n",
              "      <th></th>\n",
              "      <th>Unnamed: 0</th>\n",
              "      <th>X</th>\n",
              "      <th>Y</th>\n",
              "      <th>Z</th>\n",
              "      <th>label</th>\n",
              "    </tr>\n",
              "  </thead>\n",
              "  <tbody>\n",
              "    <tr>\n",
              "      <th>0</th>\n",
              "      <td>-1.731791</td>\n",
              "      <td>1.602895</td>\n",
              "      <td>0.057199</td>\n",
              "      <td>1.034578</td>\n",
              "      <td>-0.563902</td>\n",
              "    </tr>\n",
              "    <tr>\n",
              "      <th>1</th>\n",
              "      <td>-1.731445</td>\n",
              "      <td>0.474656</td>\n",
              "      <td>1.049657</td>\n",
              "      <td>1.109700</td>\n",
              "      <td>-0.470760</td>\n",
              "    </tr>\n",
              "    <tr>\n",
              "      <th>2</th>\n",
              "      <td>-1.731098</td>\n",
              "      <td>-0.475360</td>\n",
              "      <td>1.332401</td>\n",
              "      <td>-1.198596</td>\n",
              "      <td>-0.080700</td>\n",
              "    </tr>\n",
              "    <tr>\n",
              "      <th>3</th>\n",
              "      <td>-1.730752</td>\n",
              "      <td>-1.224451</td>\n",
              "      <td>-1.608887</td>\n",
              "      <td>0.147274</td>\n",
              "      <td>-2.011504</td>\n",
              "    </tr>\n",
              "    <tr>\n",
              "      <th>4</th>\n",
              "      <td>-1.730405</td>\n",
              "      <td>0.260161</td>\n",
              "      <td>-0.397724</td>\n",
              "      <td>1.042264</td>\n",
              "      <td>-0.011333</td>\n",
              "    </tr>\n",
              "    <tr>\n",
              "      <th>...</th>\n",
              "      <td>...</td>\n",
              "      <td>...</td>\n",
              "      <td>...</td>\n",
              "      <td>...</td>\n",
              "      <td>...</td>\n",
              "    </tr>\n",
              "    <tr>\n",
              "      <th>9995</th>\n",
              "      <td>1.730405</td>\n",
              "      <td>-0.184669</td>\n",
              "      <td>-1.374724</td>\n",
              "      <td>1.339458</td>\n",
              "      <td>-0.545107</td>\n",
              "    </tr>\n",
              "    <tr>\n",
              "      <th>9996</th>\n",
              "      <td>1.730752</td>\n",
              "      <td>1.473327</td>\n",
              "      <td>1.072031</td>\n",
              "      <td>-0.991655</td>\n",
              "      <td>-1.076598</td>\n",
              "    </tr>\n",
              "    <tr>\n",
              "      <th>9997</th>\n",
              "      <td>1.731098</td>\n",
              "      <td>1.138249</td>\n",
              "      <td>1.174739</td>\n",
              "      <td>0.779901</td>\n",
              "      <td>-1.487780</td>\n",
              "    </tr>\n",
              "    <tr>\n",
              "      <th>9998</th>\n",
              "      <td>1.731445</td>\n",
              "      <td>-1.097983</td>\n",
              "      <td>0.214842</td>\n",
              "      <td>-0.677474</td>\n",
              "      <td>-0.037327</td>\n",
              "    </tr>\n",
              "    <tr>\n",
              "      <th>9999</th>\n",
              "      <td>1.731791</td>\n",
              "      <td>1.423994</td>\n",
              "      <td>-0.078711</td>\n",
              "      <td>0.362776</td>\n",
              "      <td>-0.072248</td>\n",
              "    </tr>\n",
              "  </tbody>\n",
              "</table>\n",
              "<p>10000 rows × 5 columns</p>\n",
              "</div>\n",
              "      <button class=\"colab-df-convert\" onclick=\"convertToInteractive('df-218948a9-2699-4feb-9ecd-48bc82c98a10')\"\n",
              "              title=\"Convert this dataframe to an interactive table.\"\n",
              "              style=\"display:none;\">\n",
              "        \n",
              "  <svg xmlns=\"http://www.w3.org/2000/svg\" height=\"24px\"viewBox=\"0 0 24 24\"\n",
              "       width=\"24px\">\n",
              "    <path d=\"M0 0h24v24H0V0z\" fill=\"none\"/>\n",
              "    <path d=\"M18.56 5.44l.94 2.06.94-2.06 2.06-.94-2.06-.94-.94-2.06-.94 2.06-2.06.94zm-11 1L8.5 8.5l.94-2.06 2.06-.94-2.06-.94L8.5 2.5l-.94 2.06-2.06.94zm10 10l.94 2.06.94-2.06 2.06-.94-2.06-.94-.94-2.06-.94 2.06-2.06.94z\"/><path d=\"M17.41 7.96l-1.37-1.37c-.4-.4-.92-.59-1.43-.59-.52 0-1.04.2-1.43.59L10.3 9.45l-7.72 7.72c-.78.78-.78 2.05 0 2.83L4 21.41c.39.39.9.59 1.41.59.51 0 1.02-.2 1.41-.59l7.78-7.78 2.81-2.81c.8-.78.8-2.07 0-2.86zM5.41 20L4 18.59l7.72-7.72 1.47 1.35L5.41 20z\"/>\n",
              "  </svg>\n",
              "      </button>\n",
              "      \n",
              "  <style>\n",
              "    .colab-df-container {\n",
              "      display:flex;\n",
              "      flex-wrap:wrap;\n",
              "      gap: 12px;\n",
              "    }\n",
              "\n",
              "    .colab-df-convert {\n",
              "      background-color: #E8F0FE;\n",
              "      border: none;\n",
              "      border-radius: 50%;\n",
              "      cursor: pointer;\n",
              "      display: none;\n",
              "      fill: #1967D2;\n",
              "      height: 32px;\n",
              "      padding: 0 0 0 0;\n",
              "      width: 32px;\n",
              "    }\n",
              "\n",
              "    .colab-df-convert:hover {\n",
              "      background-color: #E2EBFA;\n",
              "      box-shadow: 0px 1px 2px rgba(60, 64, 67, 0.3), 0px 1px 3px 1px rgba(60, 64, 67, 0.15);\n",
              "      fill: #174EA6;\n",
              "    }\n",
              "\n",
              "    [theme=dark] .colab-df-convert {\n",
              "      background-color: #3B4455;\n",
              "      fill: #D2E3FC;\n",
              "    }\n",
              "\n",
              "    [theme=dark] .colab-df-convert:hover {\n",
              "      background-color: #434B5C;\n",
              "      box-shadow: 0px 1px 3px 1px rgba(0, 0, 0, 0.15);\n",
              "      filter: drop-shadow(0px 1px 2px rgba(0, 0, 0, 0.3));\n",
              "      fill: #FFFFFF;\n",
              "    }\n",
              "  </style>\n",
              "\n",
              "      <script>\n",
              "        const buttonEl =\n",
              "          document.querySelector('#df-218948a9-2699-4feb-9ecd-48bc82c98a10 button.colab-df-convert');\n",
              "        buttonEl.style.display =\n",
              "          google.colab.kernel.accessAllowed ? 'block' : 'none';\n",
              "\n",
              "        async function convertToInteractive(key) {\n",
              "          const element = document.querySelector('#df-218948a9-2699-4feb-9ecd-48bc82c98a10');\n",
              "          const dataTable =\n",
              "            await google.colab.kernel.invokeFunction('convertToInteractive',\n",
              "                                                     [key], {});\n",
              "          if (!dataTable) return;\n",
              "\n",
              "          const docLinkHtml = 'Like what you see? Visit the ' +\n",
              "            '<a target=\"_blank\" href=https://colab.research.google.com/notebooks/data_table.ipynb>data table notebook</a>'\n",
              "            + ' to learn more about interactive tables.';\n",
              "          element.innerHTML = '';\n",
              "          dataTable['output_type'] = 'display_data';\n",
              "          await google.colab.output.renderOutput(dataTable, element);\n",
              "          const docLink = document.createElement('div');\n",
              "          docLink.innerHTML = docLinkHtml;\n",
              "          element.appendChild(docLink);\n",
              "        }\n",
              "      </script>\n",
              "    </div>\n",
              "  </div>\n",
              "  "
            ]
          },
          "metadata": {},
          "execution_count": 97
        }
      ]
    },
    {
      "cell_type": "code",
      "execution_count": 98,
      "metadata": {
        "id": "RXTQCobCCgU2"
      },
      "outputs": [],
      "source": [
        "# Seperating the columns provided in the dataset.\n",
        "\n",
        "# Like in the training set\n",
        "# X-matrice is supposed to be a m x (n+1) dimensional matrice\n",
        "# where n = Number of different features present \n",
        "#       m = Number of enteries in each feature\n",
        "x_test= data_.iloc[:,1:2] # for m x 1 dimensional \n",
        "\n",
        "# y-matrice is supposed to be a m x 1 dimensional matrice \n",
        "Y_test = data_.iloc[:,2:3].values\n",
        "\n",
        "# z-matrice is supposed to be a m x 1 dimensional matrice\n",
        "Z_test = data_.iloc[:,3:4].values\n",
        " \n",
        "# Label matrices is supposed to a m x 1 dimensional matrice\n",
        "Label_2 = data_.iloc[:,4:5].values"
      ]
    },
    {
      "cell_type": "code",
      "execution_count": 99,
      "metadata": {
        "id": "k6CTKy_VDXqH"
      },
      "outputs": [],
      "source": [
        "# Here we will construct the features matrix(X_6). \n",
        "# First we will create the individual columns and then append them together.\n",
        "\n",
        "# x_0 for simplicity is considered to be 1 matrices.\n",
        "ones = np.ones([x_test.shape[0],1]) #Dimension is m x 1\n",
        "x_0 = ones\n",
        "\n",
        "# x_1 is simply the x feature given in the dataset\n",
        "x_1 = x_test\n",
        "\n",
        "# x_2 is simply the y feature given in the dataset\n",
        "x_2 = Y_test\n",
        "\n",
        "# x_3 is simply the z feature given in the dataset\n",
        "x_3 = Z_test\n",
        "\n",
        "# x_4 is square of the x feature given in the dataset\n",
        "x_4 = x_test**2\n",
        "\n",
        "# x_5 is square of the y feature given in the dataset \n",
        "x_5 = Y_test**2\n",
        "\n",
        "# x_6 is square of the z feature given in the dataset \n",
        "x_6 = Z_test**2\n",
        "\n",
        "# x_7 is the multiplycation of x and y matrice \n",
        "x_7 = x_test*(Y_test)\n",
        "\n",
        "# x_8 is the multiplication of y and z matrice \n",
        "x_8 = Y_test*(Z_test)\n",
        "\n",
        "# x_9 is the multiplication of z and x matrice\n",
        "x_9 = Z_test*(x_test)\n",
        "\n",
        "# x_10 is the cube of the x feature given in the dataset\n",
        "x_10 = x_test**3\n",
        "\n",
        "# x_11 is the cube of the y feature given in the dataset\n",
        "x_11 = Y_test**3\n",
        "\n",
        "# x_12 is the cube of the z feature given in the dataset\n",
        "x_12 = Z_test**3\n",
        "\n",
        "# x_13 is the multiplication of square of x and y matrice\n",
        "x_13 = (x_test**2)*Y_test\n",
        "\n",
        "# x_14 is the multiplication of square of x and z matrice\n",
        "x_14 = (x_test**2)*Z_test\n",
        "\n",
        "# x_15 is the multplication of square of y and x matrice\n",
        "x_15 = (Y_test**2)*x_test\n",
        "\n",
        "# x_16 is the multiplication of square of y and z matrice\n",
        "x_16 = (Y_test**2)*Z_test\n",
        "\n",
        "# x_17 is the multiplication of square of z and x matrice\n",
        "x_17 = (Z_test**2)*x_test\n",
        "\n",
        "# x_18 is the multiplication of square of z and y matrice \n",
        "x_18 = (Z_test**2)*Y_test\n",
        "\n",
        "# x_19 is the multiplcation of all three features givven in the dataset x,y and z\n",
        "x_19 = (x_test*Y_test)*Z_test"
      ]
    },
    {
      "cell_type": "code",
      "execution_count": 100,
      "metadata": {
        "colab": {
          "base_uri": "https://localhost:8080/"
        },
        "id": "nEv1xKCLEG1l",
        "outputId": "b185ec77-03ec-4d9e-d1b7-c24d435bac97"
      },
      "outputs": [
        {
          "output_type": "stream",
          "name": "stdout",
          "text": [
            "[[ 1.          1.6028949   0.05719898 ...  1.71565996  0.06122298\n",
            "   0.09485416]\n",
            " [ 1.          0.47465649  1.04965702 ...  0.58450814  1.29258334\n",
            "   0.55288195]\n",
            " [ 1.         -0.4753605   1.33240142 ... -0.68291824  1.91417091\n",
            "   0.75915593]\n",
            " ...\n",
            " [ 1.          1.13824884  1.17473941 ...  0.69233481  0.71453003\n",
            "   1.04284132]\n",
            " [ 1.         -1.09798296  0.21484245 ... -0.50394282  0.09860655\n",
            "   0.15981168]\n",
            " [ 1.          1.42399409 -0.07871134 ...  0.18740637 -0.0103589\n",
            "  -0.04066152]]\n"
          ]
        }
      ],
      "source": [
        "X_1= np.concatenate((x_0,x_1,x_2,x_3,x_4,x_5,x_6,x_7,x_8,x_9,x_10,x_11,x_12,x_13,x_14,x_15,x_16,x_17,x_18,x_19),axis=1)\n",
        "X_1 = np.asarray(X_1)\n",
        "print(X_1)"
      ]
    },
    {
      "cell_type": "code",
      "execution_count": 101,
      "metadata": {
        "colab": {
          "base_uri": "https://localhost:8080/"
        },
        "id": "heVKYBGXFqX0",
        "outputId": "b8645eed-278d-43c9-fff2-0fd4947464e1"
      },
      "outputs": [
        {
          "output_type": "stream",
          "name": "stdout",
          "text": [
            "[[-0.44312715]\n",
            " [-0.36804302]\n",
            " [-0.05560715]\n",
            " ...\n",
            " [-1.19743177]\n",
            " [-0.04219779]\n",
            " [-0.0282203 ]]\n"
          ]
        }
      ],
      "source": [
        "# Y values (or Labels) can be found by multiplying the arrays of x and theta which is g(gradient)\n",
        "y_2 = X_1.dot(g.T)\n",
        "print(y_2) "
      ]
    },
    {
      "cell_type": "code",
      "execution_count": 102,
      "metadata": {
        "colab": {
          "base_uri": "https://localhost:8080/"
        },
        "id": "5EoHiLkoLkC4",
        "outputId": "8e7023ee-baf3-4f4d-ad38-bc71baad7dc3"
      },
      "outputs": [
        {
          "output_type": "stream",
          "name": "stdout",
          "text": [
            "[[-0.56390249]\n",
            " [-0.47076032]\n",
            " [-0.08069956]\n",
            " ...\n",
            " [-1.48777998]\n",
            " [-0.03732658]\n",
            " [-0.07224782]]\n"
          ]
        }
      ],
      "source": [
        "print(Label_2)"
      ]
    },
    {
      "cell_type": "code",
      "source": [
        "#combined rmse value\n",
        "rss=((Label_2-y_2)**2).sum()\n",
        "mse=np.mean((Label_2-y_2)**2)\n",
        "print(\"Final rmse value is =\",np.sqrt(np.mean((Label_2-y_2)**2)))"
      ],
      "metadata": {
        "colab": {
          "base_uri": "https://localhost:8080/"
        },
        "id": "RhFm7soo4naF",
        "outputId": "5c5711ff-01c7-49af-ad67-9be11db3f9cb"
      },
      "execution_count": 103,
      "outputs": [
        {
          "output_type": "stream",
          "name": "stdout",
          "text": [
            "Final rmse value is = 0.16691423439082115\n"
          ]
        }
      ]
    },
    {
      "cell_type": "markdown",
      "metadata": {
        "id": "cHl942CHLwlb"
      },
      "source": [
        "# Plotting (Polynomial Regression)\n",
        "Plotting traing dataset and test dataset together"
      ]
    },
    {
      "cell_type": "code",
      "execution_count": 77,
      "metadata": {
        "colab": {
          "base_uri": "https://localhost:8080/",
          "height": 265
        },
        "id": "emTrrKGIL95w",
        "outputId": "a08ad0f4-f993-46ef-93ba-df533da7812f"
      },
      "outputs": [
        {
          "output_type": "display_data",
          "data": {
            "text/plain": [
              "<Figure size 432x288 with 1 Axes>"
            ],
            "image/png": "[encoded data removed]"
          },
          "metadata": {
            "needs_background": "light"
          }
        }
      ],
      "source": [
        "fig = pp.figure()\n",
        "ax1 = fig.add_subplot(111)\n",
        "ax1.scatter(x, Label_1, s = 10, c = 'b', label = 'training set')\n",
        "ax1.scatter(x_test, Label_2, s = 10, c = 'r', label = 'test set')\n",
        "pp.legend(loc='upper right');\n",
        "pp.show()"
      ]
    },
    {
      "cell_type": "code",
      "source": [
        ""
      ],
      "metadata": {
        "id": "N7AOAXrnG2F4"
      },
      "execution_count": 77,
      "outputs": []
    }
  ],
  "metadata": {
    "colab": {
      "collapsed_sections": [],
      "name": "Polynomial regression .ipynb",
      "provenance": []
    },
    "kernelspec": {
      "display_name": "Python 3",
      "name": "python3"
    },
    "language_info": {
      "name": "python"
    }
  },
  "nbformat": 4,
  "nbformat_minor": 0
}