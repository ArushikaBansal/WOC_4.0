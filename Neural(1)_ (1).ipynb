{
  "cells": [
    {
      "cell_type": "markdown",
      "metadata": {
        "id": "9xUf1Mf1q5Gh"
      },
      "source": [
        "#Neural Network\n",
        "\n"
      ]
    },
    {
      "cell_type": "code",
      "execution_count": 12,
      "metadata": {
        "id": "HLlJ3in4DRNh"
      },
      "outputs": [],
      "source": [
        "import pandas as pd\n",
        "import numpy as np\n",
        "import matplotlib as pp\n",
        "import random as rand"
      ]
    },
    {
      "cell_type": "code",
      "execution_count": 13,
      "metadata": {
        "id": "n6xca1-q0ykh"
      },
      "outputs": [],
      "source": [
        "data = pd.read_csv('Linear_train.csv')\n",
        "data = np.array(data)"
      ]
    },
    {
      "cell_type": "code",
      "source": [
        "data_ = pd.read_csv('Linear_test.csv') \n",
        "data_ = np.array(data_)"
      ],
      "metadata": {
        "id": "6i600DZdPJ-Z"
      },
      "execution_count": 14,
      "outputs": []
    },
    {
      "cell_type": "code",
      "source": [
        "X= data[:,1:21]  # for m x n dimensional \n",
        "X=np.array(X)\n",
        "m,n=X.shape\n",
        "mean=np.mean(X,axis=1).reshape(m,1)\n",
        "std=np.std(X,axis=1).reshape(m,1)\n",
        "X=(X-mean)/std\n",
        "ones = np.ones([X.shape[0],1]) #This is done because for convinience X_0 is considered to have entering of only 1(for simplicity)\n",
        "X = np.concatenate ((ones , X) , axis=1)\n",
        "\n",
        "X_= data_[:,1:21] # for m x n dimensional \n",
        "m_,n_=X_.shape\n",
        "X_=np.array(X_)\n",
        "ones = np.ones([X_.shape[0],1]) #This is done because for convinience X_0 is considered to have entering of only 1(for simplicity)\n",
        "mean=np.mean(X_,axis=1).reshape(m_,1)\n",
        "std=np.std(X_,axis=1).reshape(m_,1)\n",
        "X_=(X_-mean)/std\n",
        "X_ = np.concatenate ((ones , X_) , axis=1)\n",
        "m,n=X.shape\n",
        "\n",
        "\n",
        "# y-matrice is supposed to be a m x 1 dimensional matrice \n",
        "y = data[:,-1].reshape((m,1))\n",
        "y_ = data_[:,-1].reshape((m_,1))\n"
      ],
      "metadata": {
        "id": "9MQSXs9iOHUv"
      },
      "execution_count": 15,
      "outputs": []
    },
    {
      "cell_type": "code",
      "source": [
        "def params(L_in,L_out):\n",
        "    #dimension = L_next*L_current                            \n",
        "    epsilon = 0.12\n",
        "    theta=  np.random.rand(L_in,L_out) * 2 * epsilon + (- epsilon )\n",
        "    return theta"
      ],
      "metadata": {
        "id": "GkGZWYjJOnyh"
      },
      "execution_count": 16,
      "outputs": []
    },
    {
      "cell_type": "code",
      "execution_count": 17,
      "metadata": {
        "id": "i_t3m3OjrK4F"
      },
      "outputs": [],
      "source": [
        "#@title Setting Hyperparameters\n",
        "Alpha = 0.1 #@param {type:\"slider\", min:0, max:1, step:0.0000000001}\n",
        "iters = 200 #@param {type:\"slider\", min:100, max:3000, step:100}\n",
        "alpha_= Alpha\n",
        "iters_ = iters"
      ]
    },
    {
      "cell_type": "code",
      "source": [
        "def Sigmoid(z):\n",
        "    h_x = 1/(1+np.exp(-1*z))\n",
        "    return h_x"
      ],
      "metadata": {
        "id": "2eiu3YKDM7nn"
      },
      "execution_count": 18,
      "outputs": []
    },
    {
      "cell_type": "code",
      "source": [
        "def Sigmoid_derivative(z):\n",
        "       return Sigmoid(z) * (1 - Sigmoid(z))\n"
      ],
      "metadata": {
        "id": "xZsIomnINlbZ"
      },
      "execution_count": 19,
      "outputs": []
    },
    {
      "cell_type": "code",
      "source": [
        "theta1=params(20,21)\n",
        "theta2=params(1,21)"
      ],
      "metadata": {
        "id": "MPSn3eh8pxm9"
      },
      "execution_count": 20,
      "outputs": []
    },
    {
      "cell_type": "code",
      "source": [
        "def cost(theta1,theta2,X,Y):         #forward propagation\n",
        "    m,n=X.shape\n",
        "    u=np.ones((m,1))\n",
        "#     X_train=np.concatenate((u,X_train),axis=1)\n",
        "    a1 = X    #m*n\n",
        "    z2 = a1@(theta1.T)  #  m,n  @  n,hiddensize\n",
        "    a2 = Sigmoid(z2) # m x hidden_layer\n",
        "    a2 = np.concatenate((u,a2),axis=1)   \n",
        "    z3 = a2@(theta2.T)    \n",
        "    a3 = z3\n",
        "    h_x = a3\n",
        "    J=(1/2*m)*np.sum((h_x-Y)**2)\n",
        "    return J,h_x\n"
      ],
      "metadata": {
        "id": "zkNQKXMjPmnC"
      },
      "execution_count": 21,
      "outputs": []
    },
    {
      "cell_type": "code",
      "source": [
        "def back_prop(theta1,theta2,X,Y):\n",
        "    A1 = X       # m,785\n",
        "    Z2 = A1@theta1.T      # mx hidden_layer_size == m x 784\n",
        "    A2 = Sigmoid(Z2)      #  m x hidden_layer_size == mx 784\n",
        "    m,n=X.shape\n",
        "    u=np.ones((m,1))\n",
        "    A2 = np.concatenate((u,A2),axis=1)\n",
        "    Z3 = A2@theta2.T         #m x num_labels == m x 26\n",
        "    A3 = Z3\n",
        "    h_x = A3                  #m,26\n",
        "    DELTA3 = A3 - Y\n",
        "    m,n=(DELTA3@theta2).shape\n",
        "    DELTA2 = (DELTA3@theta2)*(np.concatenate((np.ones((m,1)),Sigmoid_derivative(Z2)),axis=1))  \n",
        "    DELTA2 = DELTA2[:,1:]\n",
        "    theta1_grad = (1/m) * (DELTA2.T @ A1)\n",
        "    theta2_grad = (1/m) * (DELTA3.T @ A2)\n",
        "    return theta1_grad,theta2_grad,h_x"
      ],
      "metadata": {
        "id": "Sfe1-kIfPp2H"
      },
      "execution_count": 22,
      "outputs": []
    },
    {
      "cell_type": "code",
      "source": [
        "def gradient_descent(theta1,theta2,X,Y):\n",
        "   for i in range(iters_):\n",
        "        theta1_grad,theta2_grad,h_x=back_prop(theta1,theta2,X,y)\n",
        "        theta1=theta1-theta1_grad * alpha_\n",
        "        theta2=theta2-theta2_grad * alpha_\n",
        "        j,h_x=cost(theta1,theta2,X,y)\n",
        "        print(j)\n",
        "   return h_x "
      ],
      "metadata": {
        "id": "zvhCvNuZQNu1"
      },
      "execution_count": 23,
      "outputs": []
    },
    {
      "cell_type": "code",
      "source": [
        "theta1_grad = np.zeros(theta1.shape)\n",
        "theta2_grad = np.zeros(theta2.shape)\n",
        "back_prop(theta1,theta2,X,y)\n"
      ],
      "metadata": {
        "colab": {
          "base_uri": "https://localhost:8080/"
        },
        "id": "IXWGeivZPvs3",
        "outputId": "b0988d45-9038-47c5-fb33-e85c26f3015f"
      },
      "execution_count": 24,
      "outputs": [
        {
          "output_type": "execute_result",
          "data": {
            "text/plain": [
              "(array([[ -17.10334705,    6.91041543,  -16.68785963,    7.2506166 ,\n",
              "            6.97129345,    6.70248648,  -24.80267562,    6.86629921,\n",
              "            7.27376137,  -63.81529161,    6.83909554,    6.75076646,\n",
              "           -4.93087011,    7.8032703 ,    6.73991958,    6.64574559,\n",
              "            6.59469551,    6.82348103,    7.03301838,    6.21210698,\n",
              "            6.81972506],\n",
              "        [  41.96971396,  -16.95563845,   41.01381991,  -17.7919149 ,\n",
              "          -17.1064439 ,  -16.44498863,   60.74947215,  -16.84831888,\n",
              "          -17.84901936,  156.62327926,  -16.78089347,  -16.56419596,\n",
              "           12.1028044 ,  -19.14995428,  -16.53649266,  -16.30587008,\n",
              "          -16.18105918,  -16.74322006,  -17.25708967,  -15.24113056,\n",
              "          -16.73314566],\n",
              "        [  -5.83170628,    2.35683206,   -5.69648398,    2.47264823,\n",
              "            2.37745489,    2.28597154,   -8.46355486,    2.34169136,\n",
              "            2.48051653,  -21.75376003,    2.33250105,    2.30235828,\n",
              "           -1.68175973,    2.66100852,    2.29859361,    2.26659959,\n",
              "            2.24913077,    2.32707541,    2.39866034,    2.11874811,\n",
              "            2.32576831],\n",
              "        [ -14.9248557 ,    6.03022822,  -14.56006758,    6.32718878,\n",
              "            6.08318731,    5.84859476,  -21.64677842,    5.99161338,\n",
              "            6.34746568,  -55.68667172,    5.96778413,    5.89071556,\n",
              "           -4.30034457,    6.80972371,    5.88120843,    5.7989072 ,\n",
              "            5.75443673,    5.9541733 ,    6.13718913,    5.42038624,\n",
              "            5.95105973],\n",
              "        [  25.38265035,  -10.25789516,   24.78085875,  -10.76375058,\n",
              "          -10.34795332,   -9.9486717 ,   36.84025406,  -10.1916505 ,\n",
              "          -10.797643  ,   94.68674891,  -10.15126592,  -10.01985898,\n",
              "            7.32178816,  -11.58519054,  -10.00394067,   -9.86363329,\n",
              "           -9.78833735,  -10.12818085,  -10.43992394,   -9.21921999,\n",
              "          -10.12253409],\n",
              "        [  27.55144203,  -11.13186183,   26.880622  ,  -11.67986418,\n",
              "          -11.22991462,  -10.79693408,   39.95655967,  -11.06081828,\n",
              "          -11.71712002,  102.79845026,  -11.01696329,  -10.87469092,\n",
              "            7.94273825,  -12.57007054,  -10.85725201,  -10.70555381,\n",
              "          -10.62329607,  -10.99184358,  -11.32935949,  -10.00702677,\n",
              "          -10.9858007 ],\n",
              "        [  22.25588576,   -8.99215907,   21.72149297,   -9.43502125,\n",
              "           -9.07125728,   -8.72187116,   32.27125844,   -8.93525976,\n",
              "           -9.46492064,   83.03950511,   -8.89970628,   -8.7848568 ,\n",
              "            6.41470543,  -10.15354461,   -8.77036489,   -8.64779888,\n",
              "           -8.58137292,   -8.87930517,   -9.15163685,   -8.08383107,\n",
              "           -8.87405531],\n",
              "        [ -35.79552156,   14.46194071,  -35.01575125,   15.17406426,\n",
              "           14.58916514,   14.02649754,  -51.76461596,   14.36963677,\n",
              "           15.22171408, -133.59081894,   14.3121009 ,   14.12727941,\n",
              "          -10.32509072,   16.3302378 ,   14.10398279,   13.90816235,\n",
              "           13.80163077,   14.27998536,   14.71802406,   13.00018499,\n",
              "           14.27166993],\n",
              "        [  39.3876784 ,  -15.9189834 ,   38.3762836 ,  -16.69968822,\n",
              "          -16.05778175,  -15.44089108,   57.31713726,  -15.81666559,\n",
              "          -16.75361742,  146.89317177,  -15.75489431,  -15.55169399,\n",
              "           11.34921535,  -17.97035867,  -15.52655928,  -15.30987095,\n",
              "          -15.19260028,  -15.71845253,  -16.20051471,  -14.31354709,\n",
              "          -15.7096887 ],\n",
              "        [  -6.45324422,    2.60741827,   -6.29973071,    2.73562689,\n",
              "            2.63039913,    2.52923012,   -9.35540623,    2.59092879,\n",
              "            2.74434667,  -24.07782779,    2.58057376,    2.54732656,\n",
              "           -1.86230921,    2.94372642,    2.5432232 ,    2.50778331,\n",
              "            2.48858139,    2.57473928,    2.65357552,    2.34447713,\n",
              "            2.57331751],\n",
              "        [  32.86723631,  -13.27957825,   32.06544271,  -13.93362971,\n",
              "          -13.39699192,  -12.87990787,   47.66139052,  -13.1955036 ,\n",
              "          -13.97825617,  122.63256885,  -13.14261112,  -12.97309385,\n",
              "            9.48557393,  -14.99638097,  -12.9524347 ,  -12.77135316,\n",
              "          -12.67306406,  -13.11282401,  -13.51558646,  -11.9379942 ,\n",
              "          -13.10576599],\n",
              "        [ -27.15736345,   10.973292  ,  -26.46717888,   11.51301062,\n",
              "           11.06905113,   10.6424768 ,  -39.41638513,   10.90247173,\n",
              "           11.55000679, -101.32095236,   10.8592875 ,   10.7190708 ,\n",
              "           -7.83866144,   12.39092027,   10.70258746,   10.55285302,\n",
              "           10.47213418,   10.83532706,   11.16722517,    9.86408223,\n",
              "           10.82938104],\n",
              "        [  14.64599981,   -5.91704291,   14.28398045,   -6.20790476,\n",
              "           -5.96890969,   -5.73923741,   21.23033335,   -5.87928128,\n",
              "           -6.22777308,   54.65243786,   -5.85580404,   -5.78032858,\n",
              "            4.22225214,   -6.68066096,   -5.77118981,   -5.69041573,\n",
              "           -5.64695244,   -5.84260109,   -6.0218009 ,   -5.31963023,\n",
              "           -5.8394709 ],\n",
              "        [  -2.60902194,    1.05387915,   -2.54917189,    1.10585374,\n",
              "            1.06315129,    1.02221243,   -3.77292553,    1.04719127,\n",
              "            1.10937572,   -9.73820864,    1.04298099,    1.02954003,\n",
              "           -0.75166753,    1.19013978,    1.02782815,    1.01346723,\n",
              "            1.00568351,    1.0406754 ,    1.0725539 ,    0.94737118,\n",
              "            1.04006984],\n",
              "        [ -29.35043521,   11.8623377 ,  -28.63691913,   12.4463254 ,\n",
              "           11.966385  ,   11.50537313,  -42.66741166,   11.78669212,\n",
              "           12.48531338, -109.46590583,   11.73940085,   11.5885308 ,\n",
              "           -8.45788195,   13.39373935,   11.56950917,   11.40824831,\n",
              "           11.32043975,   11.71308545,   12.07239111,   10.66369383,\n",
              "           11.70665321],\n",
              "        [  -4.78446246,    1.93254588,   -4.66969767,    2.02788273,\n",
              "            1.94966409,    1.87431741,   -6.92188917,    1.9201993 ,\n",
              "            2.03453711,  -17.85813408,    1.91271797,    1.88795495,\n",
              "           -1.37988446,    2.18284388,    1.88489651,    1.85853682,\n",
              "            1.84416261,    1.90830013,    1.96690136,    1.73700735,\n",
              "            1.90713729],\n",
              "        [  16.69252662,   -6.7452284 ,   16.28824732,   -7.07726333,\n",
              "           -6.8046022 ,   -6.54221717,   24.22638046,   -6.70209115,\n",
              "           -7.09983089,   62.27402223,   -6.67556922,   -6.58937632,\n",
              "            4.81219863,   -7.61674308,   -6.57876844,   -6.48683767,\n",
              "           -6.43696816,   -6.66029002,   -6.86488945,   -6.06349217,\n",
              "           -6.65668096],\n",
              "        [ -13.62780459,    5.50581277,  -13.29066673,    5.77676709,\n",
              "            5.55412422,    5.3399617 ,  -19.75778088,    5.47044071,\n",
              "            5.79518   ,  -50.85157614,    5.44888065,    5.37856   ,\n",
              "           -3.92882119,    6.21726029,    5.37001672,    5.29490078,\n",
              "            5.25412912,    5.43638898,    5.6034917 ,    4.94942871,\n",
              "            5.43350151],\n",
              "        [ -42.11623108,   17.01252922,  -41.13173379,   17.85112164,\n",
              "           17.16252912,   16.50055678,  -60.91339385,   16.90393172,\n",
              "           17.90798432, -157.20101857,   16.83709868,   16.61895864,\n",
              "          -12.14075756,   19.2141598 ,   16.5915866 ,   16.35947863,\n",
              "           16.23456087,   16.79862562,   17.31502593,   15.29017812,\n",
              "           16.78857807],\n",
              "        [  24.04236625,   -9.71365969,   23.4392643 ,  -10.19234031,\n",
              "           -9.79944301,   -9.42138826,   34.88393709,   -9.65150863,\n",
              "          -10.22521099,   89.70442055,   -9.61359936,   -9.4893185 ,\n",
              "            6.92928527,  -10.96996324,   -9.47395143,   -9.34153378,\n",
              "           -9.26953033,   -9.59166172,   -9.88616631,   -8.73147449,\n",
              "           -9.58615718]]),\n",
              " array([[-1537.58319527,  -776.04423433,  -621.3832258 ,  -909.51653795,\n",
              "          -694.3872823 ,  -950.1274403 ,  -767.44967037,  -928.1545717 ,\n",
              "          -957.00874716,  -936.81573871,  -644.14380934,  -653.47612568,\n",
              "          -492.51401313,  -672.49887579,  -584.01372835,  -634.87898857,\n",
              "          -964.31029115,  -795.3216425 ,  -676.82240297,  -916.84895941,\n",
              "          -686.83177287]]),\n",
              " array([[-0.17686321],\n",
              "        [-0.17703294],\n",
              "        [-0.17152515],\n",
              "        ...,\n",
              "        [-0.17171364],\n",
              "        [-0.1811977 ],\n",
              "        [-0.16807252]]))"
            ]
          },
          "metadata": {},
          "execution_count": 24
        }
      ]
    },
    {
      "cell_type": "code",
      "source": [
        "theta1,theta2,h_x=gradient_descent(theta1,theta2,X,y)"
      ],
      "metadata": {
        "colab": {
          "base_uri": "https://localhost:8080/",
          "height": 1000
        },
        "id": "1Et_sgQ8r2IT",
        "outputId": "fa890a7c-421e-4547-aecd-3dd05778aa2d"
      },
      "execution_count": 25,
      "outputs": [
        {
          "output_type": "stream",
          "name": "stdout",
          "text": [
            "3.09314861824144e+16\n",
            "3.055704678458112e+16\n",
            "3.0542062970359388e+16\n",
            "3.0541463620509576e+16\n",
            "3.0541439645349444e+16\n",
            "3.0541438684969452e+16\n",
            "3.054143864513322e+16\n",
            "3.0541438642074108e+16\n",
            "3.0541438640437776e+16\n",
            "3.054143863880578e+16\n",
            "3.0541438637116756e+16\n",
            "3.054143863536321e+16\n",
            "3.054143863353932e+16\n",
            "3.0541438631638836e+16\n",
            "3.054143862965482e+16\n",
            "3.0541438627579664e+16\n",
            "3.0541438625404884e+16\n",
            "3.0541438623121064e+16\n",
            "3.0541438620717668e+16\n",
            "3.0541438618182904e+16\n",
            "3.054143861550345e+16\n",
            "3.0541438612664256e+16\n",
            "3.0541438609648212e+16\n",
            "3.0541438606435784e+16\n",
            "3.0541438603004584e+16\n",
            "3.0541438599328748e+16\n",
            "3.054143859537829e+16\n",
            "3.0541438591118224e+16\n",
            "3.0541438586507484e+16\n",
            "3.0541438581497456e+16\n",
            "3.0541438576030244e+16\n",
            "3.0541438570036308e+16\n",
            "3.054143856343136e+16\n",
            "3.0541438556112244e+16\n",
            "3.0541438547951348e+16\n",
            "3.054143853878895e+16\n",
            "3.0541438528422436e+16\n",
            "3.054143851659097e+16\n",
            "3.054143850295312e+16\n",
            "3.054143848705335e+16\n",
            "3.0541438468270532e+16\n",
            "3.054143844573604e+16\n",
            "3.054143841819864e+16\n",
            "3.0541438383791264e+16\n",
            "3.05414383396067e+16\n",
            "3.0541438280873708e+16\n",
            "3.0541438199223824e+16\n",
            "3.0541438078648692e+16\n",
            "3.054143788468461e+16\n",
            "3.0541437529324908e+16\n",
            "3.0541436718166676e+16\n",
            "3.0541433825004108e+16\n",
            "3.0541393494519104e+16\n",
            "3.061815419427791e+16\n",
            "3.056501133154727e+16\n",
            "3.0541674358244696e+16\n",
            "3.0541440987221236e+16\n",
            "3.0541438651264076e+16\n",
            "3.054143862543177e+16\n",
            "3.0541438622449696e+16\n",
            "3.054143861940508e+16\n",
            "3.0541438616019572e+16\n",
            "3.0541438612229596e+16\n",
            "3.0541438607958464e+16\n",
            "3.0541438603109044e+16\n",
            "3.0541438597556584e+16\n",
            "3.0541438591138172e+16\n",
            "3.054143858363708e+16\n",
            "3.054143857475899e+16\n",
            "3.0541438564094164e+16\n",
            "3.0541438551055836e+16\n",
            "3.054143853477464e+16\n",
            "3.054143851390883e+16\n",
            "3.0541438486280976e+16\n",
            "3.054143844812694e+16\n",
            "3.0541438392383856e+16\n",
            "3.0541438304249336e+16\n",
            "3.0541438147403932e+16\n",
            "3.0541437808119984e+16\n",
            "3.0541436736880016e+16\n",
            "3.0541427380983868e+16\n",
            "3.054574960104585e+16\n",
            "3.0560196655611236e+16\n",
            "3.054162625163382e+16\n",
            "3.0541440547541588e+16\n",
            "3.0541438690448412e+16\n",
            "3.0541438671824556e+16\n",
            "3.0541438671584668e+16\n",
            "3.05414386715279e+16\n",
            "3.0541438671472216e+16\n",
            "3.0541438671415784e+16\n",
            "3.054143867135858e+16\n",
            "3.0541438671300572e+16\n",
            "3.0541438671241748e+16\n",
            "3.05414386711821e+16\n",
            "3.05414386711216e+16\n",
            "3.0541438671060236e+16\n",
            "3.0541438670997984e+16\n",
            "3.054143867093483e+16\n",
            "3.054143867087075e+16\n",
            "3.0541438670805732e+16\n",
            "3.054143867073974e+16\n",
            "3.054143867067276e+16\n",
            "3.054143867060477e+16\n",
            "3.0541438670535748e+16\n",
            "3.0541438670465668e+16\n",
            "3.054143867039451e+16\n",
            "3.054143867032225e+16\n",
            "3.0541438670248852e+16\n",
            "3.0541438670174292e+16\n",
            "3.054143867009856e+16\n",
            "3.0541438670021596e+16\n",
            "3.0541438669943388e+16\n",
            "3.0541438669863916e+16\n",
            "3.054143866978313e+16\n",
            "3.0541438669701012e+16\n",
            "3.0541438669617524e+16\n",
            "3.0541438669532616e+16\n",
            "3.0541438669446276e+16\n",
            "3.0541438669358452e+16\n",
            "3.0541438669269116e+16\n",
            "3.0541438669178212e+16\n",
            "3.054143866908571e+16\n",
            "3.0541438668991576e+16\n",
            "3.054143866889575e+16\n",
            "3.05414386687982e+16\n",
            "3.054143866869887e+16\n",
            "3.0541438668597704e+16\n",
            "3.054143866849467e+16\n",
            "3.0541438668389704e+16\n",
            "3.054143866828275e+16\n",
            "3.054143866817376e+16\n",
            "3.054143866806266e+16\n",
            "3.0541438667949416e+16\n",
            "3.054143866783393e+16\n",
            "3.0541438667716148e+16\n",
            "3.0541438667596028e+16\n",
            "3.054143866747345e+16\n",
            "3.0541438667348376e+16\n",
            "3.054143866722073e+16\n",
            "3.05414386670904e+16\n",
            "3.0541438666957336e+16\n",
            "3.0541438666821424e+16\n",
            "3.0541438666682588e+16\n",
            "3.0541438666540724e+16\n",
            "3.0541438666395744e+16\n",
            "3.0541438666247536e+16\n",
            "3.0541438666095984e+16\n",
            "3.054143866594099e+16\n",
            "3.0541438665782416e+16\n",
            "3.054143866562017e+16\n",
            "3.0541438665454076e+16\n",
            "3.054143866528403e+16\n",
            "3.054143866510989e+16\n",
            "3.054143866493148e+16\n",
            "3.0541438664748668e+16\n",
            "3.0541438664561284e+16\n",
            "3.054143866436914e+16\n",
            "3.054143866417207e+16\n",
            "3.054143866396988e+16\n",
            "3.054143866376235e+16\n",
            "3.0541438663549292e+16\n",
            "3.0541438663330468e+16\n",
            "3.0541438663105644e+16\n",
            "3.0541438662874572e+16\n",
            "3.0541438662636988e+16\n",
            "3.054143866239261e+16\n",
            "3.0541438662141148e+16\n",
            "3.054143866188229e+16\n",
            "3.0541438661615692e+16\n",
            "3.0541438661341016e+16\n",
            "3.0541438661057896e+16\n",
            "3.0541438660765932e+16\n",
            "3.0541438660464692e+16\n",
            "3.0541438660153748e+16\n",
            "3.0541438659832604e+16\n",
            "3.054143865950077e+16\n",
            "3.0541438659157692e+16\n",
            "3.0541438658802796e+16\n",
            "3.054143865843546e+16\n",
            "3.0541438658055028e+16\n",
            "3.0541438657660784e+16\n",
            "3.0541438657251948e+16\n",
            "3.054143865682773e+16\n",
            "3.054143865638722e+16\n",
            "3.054143865592947e+16\n",
            "3.054143865545347e+16\n",
            "3.0541438654958092e+16\n",
            "3.0541438654442144e+16\n",
            "3.0541438653904304e+16\n",
            "3.0541438653343164e+16\n",
            "3.0541438652757188e+16\n",
            "3.0541438652144696e+16\n",
            "3.054143865150384e+16\n",
            "3.0541438650832624e+16\n",
            "3.0541438650128844e+16\n",
            "3.054143864939008e+16\n",
            "3.0541438648613676e+16\n",
            "3.0541438647796684e+16\n",
            "3.0541438646935852e+16\n"
          ]
        },
        {
          "output_type": "error",
          "ename": "ValueError",
          "evalue": "ignored",
          "traceback": [
            "\u001b[0;31m---------------------------------------------------------------------------\u001b[0m",
            "\u001b[0;31mValueError\u001b[0m                                Traceback (most recent call last)",
            "\u001b[0;32m<ipython-input-25-e6957e52183e>\u001b[0m in \u001b[0;36m<module>\u001b[0;34m()\u001b[0m\n\u001b[0;32m----> 1\u001b[0;31m \u001b[0mtheta1\u001b[0m\u001b[0;34m,\u001b[0m\u001b[0mtheta2\u001b[0m\u001b[0;34m,\u001b[0m\u001b[0mh_x\u001b[0m\u001b[0;34m=\u001b[0m\u001b[0mgradient_descent\u001b[0m\u001b[0;34m(\u001b[0m\u001b[0mtheta1\u001b[0m\u001b[0;34m,\u001b[0m\u001b[0mtheta2\u001b[0m\u001b[0;34m,\u001b[0m\u001b[0mX\u001b[0m\u001b[0;34m,\u001b[0m\u001b[0my\u001b[0m\u001b[0;34m)\u001b[0m\u001b[0;34m\u001b[0m\u001b[0;34m\u001b[0m\u001b[0m\n\u001b[0m",
            "\u001b[0;31mValueError\u001b[0m: too many values to unpack (expected 3)"
          ]
        }
      ]
    },
    {
      "cell_type": "code",
      "source": [
        "def predict(theta1,theta2,X):\n",
        "#     X=X/255\n",
        "    m,n=X.shape\n",
        "    u=np.ones((m,1))\n",
        "    a1 = X    #m*n\n",
        "    z2 = a1@(theta1.T)  #  m,n  @  n,hiddensize\n",
        "    a2 = Sigmoid(z2) # m x hidden_layer\n",
        "    a2 = np.concatenate((u,a2),axis=1)   \n",
        "    z3 = a2@(theta2.T)    \n",
        "    a3 = z3\n",
        "    h_x = a3\n",
        "    return (h_x)\n",
        "    "
      ],
      "metadata": {
        "id": "WAq_G9qzpwzv"
      },
      "execution_count": 26,
      "outputs": []
    },
    {
      "cell_type": "code",
      "source": [
        "y_pred = predict(theta1 , theta2 ,X_)"
      ],
      "metadata": {
        "id": "t0rQviqcQNqA"
      },
      "execution_count": 27,
      "outputs": []
    },
    {
      "cell_type": "code",
      "source": [
        "rmse = np.mean((y_pred-y_)**2)**0.5\n",
        "rmse "
      ],
      "metadata": {
        "colab": {
          "base_uri": "https://localhost:8080/"
        },
        "id": "1ZKwPmC8tS4R",
        "outputId": "286a79ff-521b-4f8d-e9e1-87419d486cfa"
      },
      "execution_count": 28,
      "outputs": [
        {
          "output_type": "execute_result",
          "data": {
            "text/plain": [
              "5175.699704188836"
            ]
          },
          "metadata": {},
          "execution_count": 28
        }
      ]
    },
    {
      "cell_type": "markdown",
      "source": [
        ""
      ],
      "metadata": {
        "id": "PWo3V9kNQNkf"
      }
    },
    {
      "cell_type": "markdown",
      "source": [
        "## Polynomial neural network"
      ],
      "metadata": {
        "id": "qG5xXEDfBOgl"
      }
    },
    {
      "cell_type": "code",
      "source": [
        "import pandas as pd\n",
        "import numpy as np\n",
        "import matplotlib.pyplot as pp"
      ],
      "metadata": {
        "id": "0ZICgOfCyS3Q"
      },
      "execution_count": 29,
      "outputs": []
    },
    {
      "cell_type": "code",
      "source": [
        "data = pd.read_csv('Polynomial_train.csv')\n",
        "data = np.array(data)"
      ],
      "metadata": {
        "id": "AJZQrsn6Behl"
      },
      "execution_count": 34,
      "outputs": []
    },
    {
      "cell_type": "code",
      "source": [
        "data_ = pd.read_csv('Polynomial_test.csv')\n",
        "data_ = np.array(data_)"
      ],
      "metadata": {
        "id": "em8M93MLB6Y8"
      },
      "execution_count": 35,
      "outputs": []
    },
    {
      "cell_type": "code",
      "source": [
        "# Seperating the x and y matrices\n",
        "\n",
        "# Like in the training set\n",
        "# X-matrice is supposed to be a m x (n+1) dimensional matrice\n",
        "# where n = Number of different features present \n",
        "#       m = Number of enteries in each feature\n",
        "x = data[:,1:2] # for m x 1 dimensional \n",
        "x_ = data_[:,1:2]\n",
        "\n",
        "# y-matrice is supposed to be a m x 1 dimensional matrice \n",
        "Y = data[:,2:3]\n",
        "Y_ = data_[:,2:3]\n",
        "\n",
        "# z-matrice is supposed to be a m x 1 dimensional matrice\n",
        "Z = data[:,3:4]\n",
        "Z_ = data_[:,3:4]\n",
        "\n",
        "# Label matrices is supposed to a m x 1 dimensional matrice\n",
        "Label = data[:,4:5]\n",
        "Label_ = data_[:,4:5]"
      ],
      "metadata": {
        "id": "BhqHsiauBfCD"
      },
      "execution_count": 36,
      "outputs": []
    },
    {
      "cell_type": "code",
      "source": [
        "X_needed = data[:,1:4]\n",
        "m,n = X_needed.shape"
      ],
      "metadata": {
        "id": "VHDRYNbp6P13"
      },
      "execution_count": 39,
      "outputs": []
    },
    {
      "cell_type": "code",
      "source": [
        "X_needed.shape"
      ],
      "metadata": {
        "colab": {
          "base_uri": "https://localhost:8080/"
        },
        "id": "evgdSrsmCQXf",
        "outputId": "d4c3d06b-8409-4fae-d4a0-9f16e5993efb"
      },
      "execution_count": 40,
      "outputs": [
        {
          "output_type": "execute_result",
          "data": {
            "text/plain": [
              "(50000, 3)"
            ]
          },
          "metadata": {},
          "execution_count": 40
        }
      ]
    },
    {
      "cell_type": "code",
      "source": [
        "X_test = data[:,1:4]\n",
        "m_ , n_ =X_test.shape"
      ],
      "metadata": {
        "id": "yJvmbKhlAt2b"
      },
      "execution_count": 42,
      "outputs": []
    },
    {
      "cell_type": "code",
      "source": [
        "# Here we will construct the features matrix(X_5). \n",
        "# First we will create the individual columns and then append them together.\n",
        "\n",
        "# x_0 for simplicity is considered to be 1 matrices.\n",
        "ones = np.ones([x.shape[0],1]) #Dimension is m x 1\n",
        "x_0 = ones\n",
        "\n",
        "# x_1 is simply the x feature given in the dataset\n",
        "x_1 = x\n",
        "\n",
        "# x_2 is simply the y feature given in the dataset\n",
        "x_2 = Y\n",
        "\n",
        "# x_3 is simply the z feature given in the dataset\n",
        "x_3 = Z\n",
        "\n",
        "# x_4 is square of the x feature given in the dataset\n",
        "x_4 = x**2\n",
        "\n",
        "# x_5 is square of the y feature given in the dataset \n",
        "x_5 = Y**2\n",
        "\n",
        "# x_6 is square of the z feature given in the dataset \n",
        "x_6 = Z**2\n",
        "\n",
        "# x_7 is the multiplycation of x and y matrice \n",
        "x_7 = x*(Y)\n",
        "\n",
        "# x_8 is the multiplication of y and z matrice \n",
        "x_8 = Y*(Z)\n",
        "\n",
        "# x_9 is the multiplication of z and x matrice\n",
        "x_9 = Z*(x)\n",
        "\n",
        "# x_10 is the cube of the x feature given in the dataset\n",
        "x_10 = x**3\n",
        "\n",
        "# x_11 is the cube of the y feature given in the dataset\n",
        "x_11 = Y**3\n",
        "\n",
        "# x_12 is the cube of the z feature given in the dataset\n",
        "x_12 = Z**3\n",
        "\n",
        "# x_13 is the multiplication of square of x and y matrice\n",
        "x_13 = (x**2)*Y\n",
        "\n",
        "# x_14 is the multiplication of square of x and z matrice\n",
        "x_14 = (x**2)*Z\n",
        "\n",
        "# x_15 is the multplication of square of y and x matrice\n",
        "x_15 = (Y**2)*x\n",
        "\n",
        "# x_16 is the multiplication of square of y and z matrice\n",
        "x_16 = (Y**2)*Z\n",
        "\n",
        "# x_17 is the multiplication of square of z and x matrice\n",
        "x_17 = (Z**2)*x\n",
        "\n",
        "# x_18 is the multiplication of square of z and y matrice \n",
        "x_18 = (Z**2)*Y\n",
        "\n",
        "# x_19 is the multiplcation of all three features givven in the dataset x,y and z\n",
        "x_19 = (x*Y)*Z"
      ],
      "metadata": {
        "id": "UKwVDUmTCiTp"
      },
      "execution_count": 43,
      "outputs": []
    },
    {
      "cell_type": "code",
      "source": [
        "# Appending the featueres together\n",
        "X_2 = np.concatenate((x_0,x_1,x_2,x_3,x_4,x_5,x_6,x_7,x_8,x_9,x_10,x_11,x_12,x_13,x_14,x_15,x_16,x_17,x_18,x_19),axis=1)\n",
        "X_2 = np.asarray(X_2)\n",
        "print(X_2)"
      ],
      "metadata": {
        "colab": {
          "base_uri": "https://localhost:8080/"
        },
        "id": "xR6AIYo1DDE2",
        "outputId": "41f5f8bc-ea19-4fa1-8487-f42b9e04c968"
      },
      "execution_count": 44,
      "outputs": [
        {
          "output_type": "stream",
          "name": "stdout",
          "text": [
            "[[   1.            0.64371517   -9.86655011 ...   21.92437379\n",
            "  -336.04603851   37.06600642]\n",
            " [   1.           -1.36644585   -3.76194541 ... -104.76591131\n",
            "  -288.42975326  -45.01100391]\n",
            " [   1.           -4.09026967   -1.83621751 ...  -13.93946827\n",
            "    -6.25775263  -13.86510618]\n",
            " ...\n",
            " [   1.            6.6167532    -2.84728822 ...    1.68102808\n",
            "    -0.72337162    9.49601482]\n",
            " [   1.            3.55819907    4.50752592 ...   82.79156379\n",
            "   104.88033784  -77.36533256]\n",
            " [   1.            0.62343079    8.86323404 ...    6.50837904\n",
            "    92.52877365  -17.85347505]]\n"
          ]
        }
      ]
    },
    {
      "cell_type": "code",
      "source": [
        "# Here we will construct the features matrix(X_5). \n",
        "# First we will create the individual columns and then append them together.\n",
        "\n",
        "# x_0 for simplicity is considered to be 1 matrices.\n",
        "ones = np.ones([x_.shape[0],1]) #Dimension is m x 1\n",
        "x_0 = ones\n",
        "\n",
        "# x_1 is simply the x feature given in the dataset\n",
        "x_1 = x_\n",
        "\n",
        "# x_2 is simply the y feature given in the dataset\n",
        "x_2 = Y_\n",
        "\n",
        "# x_3 is simply the z feature given in the dataset\n",
        "x_3 = Z_\n",
        "\n",
        "# x_4 is square of the x feature given in the dataset\n",
        "x_4 = x_**2\n",
        "\n",
        "# x_5 is square of the y feature given in the dataset \n",
        "x_5 = Y_**2\n",
        "\n",
        "# x_6 is square of the z feature given in the dataset \n",
        "x_6 = Z_**2\n",
        "\n",
        "# x_7 is the multiplycation of x and y matrice \n",
        "x_7 = x_*(Y_)\n",
        "\n",
        "# x_8 is the multiplication of y and z matrice \n",
        "x_8 = Y_*(Z_)\n",
        "\n",
        "# x_9 is the multiplication of z and x matrice\n",
        "x_9 = Z_*(x_)\n",
        "\n",
        "# x_10 is the cube of the x feature given in the dataset\n",
        "x_10 = x_**3\n",
        "\n",
        "# x_11 is the cube of the y feature given in the dataset\n",
        "x_11 = Y_**3\n",
        "\n",
        "# x_12 is the cube of the z feature given in the dataset\n",
        "x_12 = Z_**3\n",
        "\n",
        "# x_13 is the multiplication of square of x and y matrice\n",
        "x_13 = (x_**2)*Y_\n",
        "\n",
        "# x_14 is the multiplication of square of x and z matrice\n",
        "x_14 = (x_**2)*Z_\n",
        "\n",
        "# x_15 is the multplication of square of y and x matrice\n",
        "x_15 = (Y_**2)*x_\n",
        "\n",
        "# x_16 is the multiplication of square of y and z matrice\n",
        "x_16 = (Y_**2)*Z_\n",
        "\n",
        "# x_17 is the multiplication of square of z and x matrice\n",
        "x_17 = (Z_**2)*x_\n",
        "\n",
        "# x_18 is the multiplication of square of z and y matrice \n",
        "x_18 = (Z_**2)*Y_\n",
        "\n",
        "# x_19 is the multiplcation of all three features givven in the dataset x,y and z\n",
        "x_19 = (x_*Y_)*Z_"
      ],
      "metadata": {
        "id": "YYv7LP2ZfYhS"
      },
      "execution_count": 47,
      "outputs": []
    },
    {
      "cell_type": "code",
      "source": [
        "# Appending the featueres together\n",
        "X_2_ = np.concatenate((x_0,x_1,x_2,x_3,x_4,x_5,x_6,x_7,x_8,x_9,x_10,x_11,x_12,x_13,x_14,x_15,x_16,x_17,x_18,x_19),axis=1)\n",
        "X_2_ = np.asarray(X_2_)\n",
        "print(X_2_)"
      ],
      "metadata": {
        "colab": {
          "base_uri": "https://localhost:8080/"
        },
        "id": "k0b39k-gfsLA",
        "outputId": "d9efa50c-45da-454a-c1e4-3aa1feaa8d51"
      },
      "execution_count": 48,
      "outputs": [
        {
          "output_type": "stream",
          "name": "stdout",
          "text": [
            "[[ 1.00000000e+00  9.32207776e+00  4.13096456e-01 ...  3.33888875e+02\n",
            "   1.47958764e+01  2.30467029e+01]\n",
            " [ 1.00000000e+00  2.81196379e+00  6.14275187e+00 ...  1.15871475e+02\n",
            "   2.53121937e+02  1.10880736e+02]\n",
            " [ 1.00000000e+00 -2.66978441e+00  7.77509088e+00 ... -1.28286702e+02\n",
            "   3.73603489e+02  1.43891252e+02]\n",
            " ...\n",
            " [ 1.00000000e+00  6.64099656e+00  6.86487708e+00 ...  1.35179513e+02\n",
            "   1.39736669e+02  2.05686047e+02]\n",
            " [ 1.00000000e+00 -6.26241442e+00  1.32320320e+00 ... -9.61202433e+01\n",
            "   2.03095173e+01  3.24642127e+01]\n",
            " [ 1.00000000e+00  8.28979179e+00 -3.71540510e-01 ...  3.65245432e+01\n",
            "  -1.63699496e+00 -6.46502756e+00]]\n"
          ]
        }
      ]
    },
    {
      "cell_type": "code",
      "source": [
        "def params(L_in ,L_out):\n",
        "    #dimension = L_next*L_current                            \n",
        "    epsilon = 0.12\n",
        "    theta=  np.random.rand(L_in,L_out) * 2 * epsilon + (- epsilon )\n",
        "    return theta"
      ],
      "metadata": {
        "id": "mEeMfV7lu_4x"
      },
      "execution_count": 49,
      "outputs": []
    },
    {
      "cell_type": "code",
      "source": [
        "theta1=params(19,20)\n",
        "theta2=params(1,20)"
      ],
      "metadata": {
        "id": "Dxfuoahm8tGO"
      },
      "execution_count": 50,
      "outputs": []
    },
    {
      "cell_type": "code",
      "source": [
        "def Sigmoid(z):\n",
        "    h_x = 1/(1+np.exp(-1*z))\n",
        "    return h_x"
      ],
      "metadata": {
        "id": "924QDrsQHWpF"
      },
      "execution_count": 51,
      "outputs": []
    },
    {
      "cell_type": "code",
      "source": [
        "def Sigmoid_derivative(z):\n",
        "       return Sigmoid(z) * (1 - Sigmoid(z))"
      ],
      "metadata": {
        "id": "pJSoIAswJWxw"
      },
      "execution_count": 52,
      "outputs": []
    },
    {
      "cell_type": "code",
      "source": [
        "print(theta2.shape)"
      ],
      "metadata": {
        "colab": {
          "base_uri": "https://localhost:8080/"
        },
        "id": "aVc-GANg9fQ-",
        "outputId": "177c88fd-5828-4c7c-ba93-2963e417da45"
      },
      "execution_count": 53,
      "outputs": [
        {
          "output_type": "stream",
          "name": "stdout",
          "text": [
            "(1, 20)\n"
          ]
        }
      ]
    },
    {
      "cell_type": "code",
      "source": [
        "def cost(theta1,theta2,X,Y):         #forward propagation\n",
        "    m,n=X.shape\n",
        "    u=np.ones((m,1))\n",
        "#     X_train=np.concatenate((u,X_train),axis=1)\n",
        "    a1 = X    #m*n\n",
        "    z2 = a1@(theta1.T)  #  m,n  @  n,hiddensize\n",
        "    a2 = Sigmoid(z2) # m x hidden_layer\n",
        "    a2 = np.concatenate((u,a2),axis=1)   \n",
        "    z3 = a2@(theta2.T)\n",
        "    a3 = z3\n",
        "    h_x = a3\n",
        "    J=(1/2*m)*np.sum((h_x-Y)**2)\n",
        "    return J,h_x\n"
      ],
      "metadata": {
        "id": "oaHfQB0EzPv2"
      },
      "execution_count": 54,
      "outputs": []
    },
    {
      "cell_type": "code",
      "source": [
        "def back_prop(theta1,theta2,X,Y):\n",
        "    m,n=X.shape\n",
        "    A1 = X       # m,3\n",
        "    Z2 = A1@theta1.T   # mx hidden_layer_size == m x 20\n",
        "    A2 = Sigmoid(Z2)      #  m x hidden_layer_size == m x 20\n",
        "    \n",
        "    u=np.ones((m,1))\n",
        "    A2 = np.concatenate((u,A2),axis=1)   # m x 21\n",
        "    Z3 = A2@theta2.T     #m x num_labels == m x 26\n",
        "    A3 = Z3\n",
        "    h_x = A3                  #m,26\n",
        "    DELTA3 = A3 - Y\n",
        "    m,n=(DELTA3@theta2).shape\n",
        "    DELTA2 = (DELTA3@theta2)*(np.concatenate((np.ones((m,1)),Sigmoid_derivative(Z2)),axis=1))  \n",
        "    DELTA2 = DELTA2[:,1:]\n",
        "    theta1_grad = (1/m) * (DELTA2.T @ A1)\n",
        "    theta2_grad = (1/m) * (DELTA3.T @ A2)\n",
        "    return theta1_grad,theta2_grad,h_x"
      ],
      "metadata": {
        "id": "IQYxLXNo9xJU"
      },
      "execution_count": 55,
      "outputs": []
    },
    {
      "cell_type": "code",
      "source": [
        "def gradient_descent(theta1,theta2,X,Y):\n",
        "   for i in range(iters_):\n",
        "        theta1_grad,theta2_grad,h_x=back_prop(theta1,theta2,X,y)\n",
        "        theta1=theta1-theta1_grad * alpha_\n",
        "        theta2=theta2-theta2_grad * alpha_\n",
        "        j,h_x=cost(theta1,theta2,X,y)\n",
        "        print(j)\n",
        "   return theta1, theta2 ,J ,h_x"
      ],
      "metadata": {
        "id": "i03AzemayDE5"
      },
      "execution_count": 56,
      "outputs": []
    },
    {
      "cell_type": "code",
      "source": [
        "X_2.shape"
      ],
      "metadata": {
        "colab": {
          "base_uri": "https://localhost:8080/"
        },
        "id": "asAxIKO9CbDX",
        "outputId": "d4cd4a82-2759-422f-ee6f-dac1674f27ee"
      },
      "execution_count": 57,
      "outputs": [
        {
          "output_type": "execute_result",
          "data": {
            "text/plain": [
              "(50000, 20)"
            ]
          },
          "metadata": {},
          "execution_count": 57
        }
      ]
    },
    {
      "cell_type": "code",
      "source": [
        "theta1_grad = np.zeros(theta1.shape)\n",
        "theta2_grad = np.zeros(theta2.shape)\n",
        "back_prop(theta1,theta2,X_2,Label)\n"
      ],
      "metadata": {
        "colab": {
          "base_uri": "https://localhost:8080/"
        },
        "id": "_vMtlp21KXL6",
        "outputId": "8a8a7f18-e460-4bee-f6d1-18d105b6eceb"
      },
      "execution_count": 58,
      "outputs": [
        {
          "output_type": "stream",
          "name": "stderr",
          "text": [
            "/usr/local/lib/python3.7/dist-packages/ipykernel_launcher.py:2: RuntimeWarning: overflow encountered in exp\n",
            "  \n"
          ]
        },
        {
          "output_type": "execute_result",
          "data": {
            "text/plain": [
              "(array([[ 1.51981268e-01,  1.86024681e-01, -1.78862398e-01,\n",
              "         -1.56672421e-01,  1.00005913e+01,  1.28252553e+00,\n",
              "         -4.94792211e-01, -5.65788745e+00,  2.95687540e+00,\n",
              "         -2.88957625e+00,  1.00736823e+01, -3.58256079e+00,\n",
              "         -4.14961876e+00, -1.10314054e+01, -3.66856019e+00,\n",
              "          8.15826763e+00, -4.72735442e+00, -3.00832213e+00,\n",
              "          2.31531310e+00,  2.83698267e+00],\n",
              "        [-1.87809908e-01,  1.95119181e-01, -1.86348614e-01,\n",
              "         -2.04796916e-01, -6.55505002e+00, -7.58397776e+00,\n",
              "         -4.45155345e+00,  7.28018116e+00, -5.86140794e+00,\n",
              "          5.96394694e+00,  1.25129185e+01, -7.10989791e+00,\n",
              "         -9.01979621e+00, -1.18295499e+01, -8.70407267e+00,\n",
              "          9.27840253e+00, -5.20227164e+00,  3.63949321e+00,\n",
              "         -5.54979755e+00,  5.88594558e+00],\n",
              "        [-2.33791035e-01,  2.23246383e-02,  9.28958351e-02,\n",
              "         -3.35658624e-02, -1.07629095e+01, -5.36207330e+00,\n",
              "         -5.91068016e+00,  7.41489911e+00, -1.06617552e+00,\n",
              "          3.48403281e+00,  2.29803958e+00,  6.13209106e+00,\n",
              "         -1.10591578e+00,  4.49528829e+00, -3.02691834e-01,\n",
              "         -6.31082674e+00,  2.38570138e+00, -1.75690954e+00,\n",
              "          2.74292234e+00, -3.39886016e+00],\n",
              "        [-5.82738276e-02,  3.91720472e-02,  5.25631495e-02,\n",
              "          1.68568036e-02, -2.34882189e+00, -2.52234925e+00,\n",
              "         -7.53123709e-01, -2.57931197e+00,  2.71526379e-01,\n",
              "         -7.16591857e-02,  1.26822796e+00,  2.55986179e+00,\n",
              "          1.14677961e+00,  1.31367657e+00,  1.03463344e+00,\n",
              "          2.02823921e+00,  6.57902414e-01,  3.87400437e-01,\n",
              "         -2.87064524e-01,  5.72675550e-01],\n",
              "        [ 1.67899866e-01,  5.74104508e-01, -3.29770201e-01,\n",
              "         -2.35481421e-01,  5.68199252e+00,  2.52326843e+00,\n",
              "          7.08647656e+00, -8.75136523e+00,  5.04177321e+00,\n",
              "         -1.42433111e+01,  3.57088774e+01, -6.48240085e+00,\n",
              "         -7.75067911e+00, -1.31713719e+01, -1.94932460e+01,\n",
              "          7.38170335e+00, -1.38190215e+00,  1.07386886e+01,\n",
              "         -5.70434017e+00,  8.93751748e+00],\n",
              "        [-3.68292036e-02, -1.81592327e-01,  5.67338439e-02,\n",
              "         -9.14405227e-02, -3.47786655e+00,  2.03343408e+00,\n",
              "         -2.01288085e+00,  4.29622343e+00, -9.18991291e-01,\n",
              "          2.01017912e-01, -9.96980670e+00,  1.06732313e-01,\n",
              "         -1.59199929e+00,  6.64143543e+00, -4.94392852e+00,\n",
              "         -7.08579718e+00, -2.81217079e+00, -7.80068789e-01,\n",
              "          4.30584592e-01,  2.12854712e+00],\n",
              "        [ 7.24028447e-02, -6.60870831e-01,  4.09672041e-01,\n",
              "         -6.94763648e-02,  7.55961840e+00,  2.71087291e+00,\n",
              "          7.23224825e+00, -3.42862670e+01,  9.88844953e+00,\n",
              "         -2.49777296e+01, -5.79362590e+01, -1.37000609e+01,\n",
              "         -3.13760087e+01,  4.13911006e+01,  2.14964062e+01,\n",
              "          1.19930957e+01, -3.76727303e+01,  1.96050396e+01,\n",
              "         -3.64636804e+01,  2.25727305e+01],\n",
              "        [ 1.53063829e-02,  1.45307293e-02, -2.02524281e-02,\n",
              "         -1.82521748e-02,  2.57100550e-01,  1.78416282e-01,\n",
              "          5.66720124e-01, -1.76651719e+00,  4.75704863e-01,\n",
              "         -1.64228695e+00,  1.14220838e+00, -9.65176777e-01,\n",
              "         -9.56890995e-01, -6.34049222e-01, -7.81280910e-01,\n",
              "          2.58111655e-01, -2.80266629e-01,  6.31775389e-01,\n",
              "         -8.67341658e-01,  2.55728589e-01],\n",
              "        [ 3.25815548e-01, -2.13248996e-01, -1.99215028e-01,\n",
              "          7.99169186e-02,  1.02628683e+01,  1.32336209e+01,\n",
              "          7.09946878e+00,  9.54953036e+00,  4.02444966e+00,\n",
              "          7.24305064e+00, -1.51034501e+01, -6.83918735e+00,\n",
              "          2.39873724e+00, -8.82398944e+00, -4.72343503e+00,\n",
              "         -4.81677108e+00,  8.76641304e+00, -1.21523725e+00,\n",
              "          5.86831261e-01,  1.17212606e+00],\n",
              "        [-2.85792724e-02, -3.56763773e-02, -1.19495907e-02,\n",
              "         -3.46760968e-03, -1.59478618e+00, -2.90900499e-01,\n",
              "         -1.10387861e+00, -3.88819217e+00, -2.12963208e+00,\n",
              "         -1.52020919e+00, -1.95153933e+00, -9.99619456e-01,\n",
              "          8.75761176e-01,  5.63300072e-01,  6.26183228e-02,\n",
              "         -1.36625102e+00, -2.95144131e-01,  7.45667690e-01,\n",
              "         -4.27046085e-02,  7.25620682e-02],\n",
              "        [-1.26049417e-02,  5.40624430e-02, -1.06423560e-02,\n",
              "         -6.14814639e-02, -8.60001241e-01,  2.01039235e-02,\n",
              "         -1.04031584e+00,  2.15101070e+00, -1.21120172e+00,\n",
              "          1.90479498e+00,  2.23784237e+00,  3.21003646e-02,\n",
              "         -4.01920166e+00, -1.90258778e-01, -2.77927137e+00,\n",
              "          1.84618637e+00, -1.32172503e+00,  3.80814561e+00,\n",
              "         -2.87938905e+00,  1.35717249e+00],\n",
              "        [-1.74487669e-01, -9.14865024e-02,  5.52700257e-02,\n",
              "          9.51527099e-02, -1.07670097e+01, -3.55156493e+00,\n",
              "         -8.94934141e+00,  9.81612604e+00, -1.12548333e+01,\n",
              "          1.01478453e+01, -4.13673440e+00, -3.69003382e+00,\n",
              "         -7.90840776e-01,  2.26945569e-01,  1.72880864e+00,\n",
              "          3.57859530e+00, -5.66122582e-01,  2.29996110e-01,\n",
              "         -5.39616678e+00,  2.18877972e+00],\n",
              "        [ 4.25926769e-02,  1.70823212e-01,  3.75649115e-01,\n",
              "         -2.82453990e-01, -5.98680771e-01,  3.64267725e+00,\n",
              "         -6.47014933e-02,  3.82839835e+00, -4.37426805e+00,\n",
              "          9.68468946e-01,  2.73253686e+00,  2.34184861e+01,\n",
              "         -1.73356417e+01,  9.27067905e+00, -5.99540951e+00,\n",
              "          1.16116750e+01, -1.77071441e+01,  7.17111486e+00,\n",
              "          1.97280174e+01, -1.18170506e+01],\n",
              "        [ 1.51502026e-01,  5.96453100e-02, -1.34263303e-01,\n",
              "         -9.48084211e-02,  9.21874640e+00,  4.24242914e+00,\n",
              "          3.75831835e+00, -8.49214119e+00,  5.97724397e+00,\n",
              "         -5.38697436e+00,  5.12307578e+00, -7.99654719e+00,\n",
              "         -7.07328862e+00, -6.15633739e+00, -6.18305731e+00,\n",
              "          3.95612865e+00, -3.14497160e+00,  5.77683721e+00,\n",
              "         -6.40090928e+00,  7.15810500e+00],\n",
              "        [-2.21562505e-03, -1.76881421e-02,  2.63883526e-02,\n",
              "         -3.89002883e-03, -1.07046523e-01,  2.00987231e-02,\n",
              "         -7.49466644e-01, -2.43924820e+00,  1.25823161e-01,\n",
              "          4.29275361e-01, -1.04153470e+00,  2.17999958e+00,\n",
              "          2.83641752e-02,  1.34953952e+00, -8.42983379e-02,\n",
              "         -5.19353032e-01, -6.46735640e-01, -9.47412551e-02,\n",
              "         -1.28302616e-02, -6.91017107e-01],\n",
              "        [ 6.48629831e-01,  1.44242939e+00, -5.76033118e-01,\n",
              "         -1.64323473e+00,  3.70105182e+01,  1.94537584e+01,\n",
              "          1.14356208e+01, -3.09246314e+01,  8.24757825e+00,\n",
              "         -2.24768393e+01,  1.00541841e+02,  1.10227697e+00,\n",
              "         -6.97953046e+01, -2.94035181e+01, -9.44973289e+01,\n",
              "         -1.22418903e+01, -2.86962516e+01,  6.57867264e+01,\n",
              "         -4.35775113e+01,  2.74783911e+01],\n",
              "        [-1.51088984e-01,  5.99600851e-01,  1.25049927e+00,\n",
              "         -8.23805315e-01, -4.35015634e+00, -6.15162403e+00,\n",
              "         -1.07480871e+01, -9.16421421e+00,  1.14050179e+01,\n",
              "          3.33617850e+00,  3.53498281e+01,  4.52261623e+01,\n",
              "         -4.13632499e+01,  4.86635075e+01, -3.30779789e+01,\n",
              "          3.47197921e+01, -3.83252954e+01,  3.62709286e+01,\n",
              "          4.46628861e+01, -3.91491325e+01],\n",
              "        [ 4.94365239e-03, -2.09602103e-02,  7.46704073e-02,\n",
              "         -1.51361867e-02,  3.09356094e+00,  2.49537849e+00,\n",
              "          3.76154141e-01,  6.38677723e+00,  1.27408700e+00,\n",
              "          1.63513824e+00,  3.42304775e-01,  2.84142683e+00,\n",
              "         -2.53219839e+00,  5.26041272e+00,  6.53138765e-01,\n",
              "         -1.68146553e+00,  1.15703475e+00,  2.57947030e+00,\n",
              "          1.11619153e+00, -1.40831808e-01],\n",
              "        [-1.64375314e-04, -6.11943982e-01, -3.94539337e-01,\n",
              "         -1.59883269e-01,  1.59017196e+00, -4.93053704e-01,\n",
              "         -1.57431297e+00,  6.47361458e+00, -8.75122257e-01,\n",
              "          2.30532569e+00, -3.68320692e+01, -1.64429030e+01,\n",
              "         -2.90718989e+00, -2.60496263e+01, -1.31479353e+01,\n",
              "         -2.40459486e+01, -4.20564928e+00, -6.42466302e+00,\n",
              "         -1.75709914e+00, -2.16117434e+00]]),\n",
              " array([[-13.22338692,  -7.89491429,   1.0196938 , -28.60889889,\n",
              "           9.77183281,  -6.13735181,  -0.89383287,  53.77180477,\n",
              "          -9.00625548,  13.42330536, -17.09459948,  29.53242441,\n",
              "          -9.47857064,  10.58521671, -22.63983885,   8.0109291 ,\n",
              "         -41.87984153,  -9.51934601, -16.38675926,  -3.39353358]]),\n",
              " array([[ 0.02429029],\n",
              "        [ 0.50633266],\n",
              "        [-0.12398681],\n",
              "        ...,\n",
              "        [ 0.26431954],\n",
              "        [ 0.09923228],\n",
              "        [-0.09277416]]))"
            ]
          },
          "metadata": {},
          "execution_count": 58
        }
      ]
    },
    {
      "cell_type": "code",
      "source": [
        "theta1,theta2,h_x=gradient_descent(theta1,theta2,X_2,Label)"
      ],
      "metadata": {
        "id": "zReiZ2Si6uoG",
        "colab": {
          "base_uri": "https://localhost:8080/",
          "height": 1000
        },
        "outputId": "60c99416-41f8-4d71-b3f1-e96525eda850"
      },
      "execution_count": 59,
      "outputs": [
        {
          "output_type": "stream",
          "name": "stderr",
          "text": [
            "/usr/local/lib/python3.7/dist-packages/ipykernel_launcher.py:2: RuntimeWarning: overflow encountered in exp\n",
            "  \n"
          ]
        },
        {
          "output_type": "stream",
          "name": "stdout",
          "text": [
            "3.112533439633214e+16\n",
            "3.06665045288469e+16\n",
            "3.0586801219429772e+16\n",
            "3.0579002118801976e+16\n",
            "3.05839179588971e+16\n",
            "3.057420892002197e+16\n",
            "3.05696135128888e+16\n",
            "3.0562836527132636e+16\n",
            "3.05720979109787e+16\n",
            "3.0574180364522668e+16\n",
            "3.057356639297935e+16\n",
            "3.0566402859947864e+16\n",
            "3.0568259789647124e+16\n",
            "3.0567237452444056e+16\n",
            "3.0571293200680656e+16\n",
            "3.056502280775165e+16\n",
            "3.0569171927070136e+16\n",
            "3.0566739131169884e+16\n",
            "3.056661743273851e+16\n",
            "3.056504913685268e+16\n",
            "3.0560007367455732e+16\n",
            "3.0561784967229584e+16\n",
            "3.05579607614401e+16\n",
            "3.0557484551190748e+16\n",
            "3.0557569346758692e+16\n",
            "3.0553790551461108e+16\n",
            "3.0552284156400292e+16\n",
            "3.055237820620868e+16\n",
            "3.0552759366912396e+16\n",
            "3.0552979092724156e+16\n",
            "3.055222547560948e+16\n",
            "3.055300721001106e+16\n",
            "3.0560717225939844e+16\n",
            "3.0555189371494148e+16\n",
            "3.0553989650380296e+16\n",
            "3.055384920145418e+16\n",
            "3.0552860681268104e+16\n",
            "3.055278064860038e+16\n",
            "3.0554400470398284e+16\n",
            "3.0553636918222052e+16\n",
            "3.0553194406884984e+16\n",
            "3.055316149178432e+16\n",
            "3.0553361240611548e+16\n",
            "3.0552811850273732e+16\n",
            "3.055286217061306e+16\n",
            "3.055298689084394e+16\n",
            "3.0553095734924236e+16\n",
            "3.0552749189466388e+16\n",
            "3.055246866861707e+16\n",
            "3.0553170392486e+16\n",
            "3.0555291447859144e+16\n",
            "3.0554738113900732e+16\n",
            "3.0554280430839464e+16\n",
            "3.0553563884734084e+16\n",
            "3.0553242899037816e+16\n",
            "3.0553254601734972e+16\n",
            "3.055408344353859e+16\n",
            "3.0553973752685576e+16\n",
            "3.0553529894822772e+16\n",
            "3.0553595633982324e+16\n",
            "3.0553253234976704e+16\n",
            "3.055322779248792e+16\n",
            "3.0552731355995064e+16\n",
            "3.0553389393898204e+16\n",
            "3.055314102890369e+16\n",
            "3.055257134787075e+16\n",
            "3.055264871369871e+16\n",
            "3.0552400103196736e+16\n",
            "3.055256454048553e+16\n",
            "3.0552418605921612e+16\n",
            "3.0552582336167944e+16\n",
            "3.055265477956567e+16\n",
            "3.05543427209209e+16\n",
            "3.0554045235783796e+16\n",
            "3.055379111720738e+16\n",
            "3.0553834284188696e+16\n",
            "3.055327106515745e+16\n",
            "3.0556620640882044e+16\n",
            "3.0558040665271852e+16\n",
            "3.0557168094552788e+16\n",
            "3.055662702380675e+16\n",
            "3.0556430544101788e+16\n",
            "3.0556523912165692e+16\n",
            "3.055681466624617e+16\n",
            "3.0554499730900636e+16\n",
            "3.0553252726449816e+16\n",
            "3.055334031620732e+16\n",
            "3.055415874112011e+16\n",
            "3.0553847516722308e+16\n",
            "3.0553712492093988e+16\n",
            "3.0553405863572852e+16\n",
            "3.055566511380603e+16\n",
            "3.0555573437784356e+16\n",
            "3.055535349856517e+16\n",
            "3.0555175846787824e+16\n",
            "3.055499551022137e+16\n",
            "3.05551321805208e+16\n",
            "3.05554221353948e+16\n",
            "3.055456923837298e+16\n",
            "3.0554303217327136e+16\n",
            "3.05541442449476e+16\n",
            "3.0554288700765388e+16\n",
            "3.0554625277711188e+16\n",
            "3.055450285815721e+16\n",
            "3.055408645600343e+16\n",
            "3.055272507046373e+16\n",
            "3.05524581697105e+16\n",
            "3.055234311000266e+16\n",
            "3.0553556700589196e+16\n",
            "3.055434664152463e+16\n",
            "3.0555603590019704e+16\n",
            "3.0556651800414064e+16\n",
            "3.0555828586131856e+16\n",
            "3.0555519059126332e+16\n",
            "3.0554729463548456e+16\n",
            "3.0554638036612456e+16\n",
            "3.0557711217164324e+16\n",
            "3.055767210205262e+16\n",
            "3.0557320148113452e+16\n",
            "3.0557392041760936e+16\n",
            "3.0556539877668884e+16\n",
            "3.0557936368889184e+16\n",
            "3.055776298110963e+16\n",
            "3.0554986346443172e+16\n",
            "3.0554984177757564e+16\n",
            "3.055501751264904e+16\n",
            "3.0554863430878908e+16\n",
            "3.0554764315777464e+16\n",
            "3.0554675540270148e+16\n",
            "3.055564535059959e+16\n",
            "3.055499721216924e+16\n",
            "3.055495350107522e+16\n",
            "3.0555254946891084e+16\n",
            "3.0555477764746576e+16\n",
            "3.0555444164090044e+16\n",
            "3.0554093260437624e+16\n",
            "3.0554078257193764e+16\n",
            "3.0555292463499804e+16\n",
            "3.0554937596890308e+16\n",
            "3.0554589350825628e+16\n",
            "3.0554687926487584e+16\n",
            "3.0555235805200732e+16\n",
            "3.0555464790314772e+16\n",
            "3.0555361722102132e+16\n",
            "3.0555367844013196e+16\n",
            "3.0557002072352016e+16\n",
            "3.0553123215362724e+16\n",
            "3.0553861689469636e+16\n",
            "3.0553427532053004e+16\n",
            "3.055315252585678e+16\n",
            "3.0553083976695416e+16\n",
            "3.0552973137122108e+16\n",
            "3.0552822657238404e+16\n",
            "3.05531966611294e+16\n",
            "3.05517032194429e+16\n",
            "3.055150296990464e+16\n",
            "3.055144629828803e+16\n",
            "3.055129618307942e+16\n",
            "3.055155050836777e+16\n",
            "3.055143783666179e+16\n",
            "3.055130584970485e+16\n",
            "3.0551300522013868e+16\n",
            "3.0551253729247652e+16\n",
            "3.0551549929314324e+16\n",
            "3.0551062276268616e+16\n",
            "3.0550457891282344e+16\n",
            "3.055017536055469e+16\n",
            "3.054957549825522e+16\n",
            "3.054943129356588e+16\n",
            "3.0549923202996828e+16\n",
            "3.0549531283348028e+16\n",
            "3.0549417323967652e+16\n",
            "3.054937431922969e+16\n",
            "3.0549320421069024e+16\n",
            "3.054892000922725e+16\n",
            "3.0548929991311604e+16\n",
            "3.0548785638136384e+16\n",
            "3.0549008925805024e+16\n",
            "3.0549247752657972e+16\n",
            "3.0548945022395972e+16\n",
            "3.054889379107364e+16\n",
            "3.0549038275224736e+16\n",
            "3.0549020083846796e+16\n",
            "3.0548806315842244e+16\n",
            "3.0548823458839348e+16\n",
            "3.0548489304552684e+16\n",
            "3.0548345985974616e+16\n",
            "3.0548112608580744e+16\n",
            "3.054827489866501e+16\n",
            "3.054819364868562e+16\n",
            "3.0548355282640468e+16\n",
            "3.054983894381212e+16\n",
            "3.054966147404769e+16\n",
            "3.054959421813195e+16\n",
            "3.054952647916886e+16\n",
            "3.0549501061043036e+16\n",
            "3.0549412899593188e+16\n",
            "3.054937049133932e+16\n",
            "3.0549271195704224e+16\n",
            "3.0549192926193036e+16\n"
          ]
        },
        {
          "output_type": "error",
          "ename": "NameError",
          "evalue": "ignored",
          "traceback": [
            "\u001b[0;31m---------------------------------------------------------------------------\u001b[0m",
            "\u001b[0;31mNameError\u001b[0m                                 Traceback (most recent call last)",
            "\u001b[0;32m<ipython-input-59-f31081e9c1de>\u001b[0m in \u001b[0;36m<module>\u001b[0;34m()\u001b[0m\n\u001b[0;32m----> 1\u001b[0;31m \u001b[0mtheta1\u001b[0m\u001b[0;34m,\u001b[0m\u001b[0mtheta2\u001b[0m\u001b[0;34m,\u001b[0m\u001b[0mh_x\u001b[0m\u001b[0;34m=\u001b[0m\u001b[0mgradient_descent\u001b[0m\u001b[0;34m(\u001b[0m\u001b[0mtheta1\u001b[0m\u001b[0;34m,\u001b[0m\u001b[0mtheta2\u001b[0m\u001b[0;34m,\u001b[0m\u001b[0mX_2\u001b[0m\u001b[0;34m,\u001b[0m\u001b[0mLabel\u001b[0m\u001b[0;34m)\u001b[0m\u001b[0;34m\u001b[0m\u001b[0;34m\u001b[0m\u001b[0m\n\u001b[0m",
            "\u001b[0;32m<ipython-input-56-c271ab427739>\u001b[0m in \u001b[0;36mgradient_descent\u001b[0;34m(theta1, theta2, X, Y)\u001b[0m\n\u001b[1;32m      6\u001b[0m         \u001b[0mj\u001b[0m\u001b[0;34m,\u001b[0m\u001b[0mh_x\u001b[0m\u001b[0;34m=\u001b[0m\u001b[0mcost\u001b[0m\u001b[0;34m(\u001b[0m\u001b[0mtheta1\u001b[0m\u001b[0;34m,\u001b[0m\u001b[0mtheta2\u001b[0m\u001b[0;34m,\u001b[0m\u001b[0mX\u001b[0m\u001b[0;34m,\u001b[0m\u001b[0my\u001b[0m\u001b[0;34m)\u001b[0m\u001b[0;34m\u001b[0m\u001b[0;34m\u001b[0m\u001b[0m\n\u001b[1;32m      7\u001b[0m         \u001b[0mprint\u001b[0m\u001b[0;34m(\u001b[0m\u001b[0mj\u001b[0m\u001b[0;34m)\u001b[0m\u001b[0;34m\u001b[0m\u001b[0;34m\u001b[0m\u001b[0m\n\u001b[0;32m----> 8\u001b[0;31m    \u001b[0;32mreturn\u001b[0m \u001b[0mtheta1\u001b[0m\u001b[0;34m,\u001b[0m \u001b[0mtheta2\u001b[0m \u001b[0;34m,\u001b[0m\u001b[0mJ\u001b[0m \u001b[0;34m,\u001b[0m\u001b[0mh_x\u001b[0m\u001b[0;34m\u001b[0m\u001b[0;34m\u001b[0m\u001b[0m\n\u001b[0m",
            "\u001b[0;31mNameError\u001b[0m: name 'J' is not defined"
          ]
        }
      ]
    },
    {
      "cell_type": "code",
      "source": [
        "y_pred2 = predict(theta1 , theta2 ,X_2_)"
      ],
      "metadata": {
        "id": "KcK7RRObAiXm"
      },
      "execution_count": 60,
      "outputs": []
    },
    {
      "cell_type": "code",
      "source": [
        "accuracy = np.mean((y_pred2-Label_)**2)**0.5\n",
        "accuracy"
      ],
      "metadata": {
        "colab": {
          "base_uri": "https://localhost:8080/"
        },
        "id": "sO8-vcanAmI7",
        "outputId": "9261399a-52c7-46f6-9a94-b732a46fc6c9"
      },
      "execution_count": 61,
      "outputs": [
        {
          "output_type": "execute_result",
          "data": {
            "text/plain": [
              "1205.903278116113"
            ]
          },
          "metadata": {},
          "execution_count": 61
        }
      ]
    }
  ],
  "metadata": {
    "colab": {
      "name": "Neural(1) .ipynb",
      "provenance": []
    },
    "kernelspec": {
      "display_name": "Python 3",
      "name": "python3"
    },
    "language_info": {
      "name": "python"
    }
  },
  "nbformat": 4,
  "nbformat_minor": 0
}