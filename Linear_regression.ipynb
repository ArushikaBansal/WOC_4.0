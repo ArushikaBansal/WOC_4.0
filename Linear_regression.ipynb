{
  "nbformat": 4,
  "nbformat_minor": 0,
  "metadata": {
    "colab": {
      "name": "Linear regression.ipynb",
      "provenance": []
    },
    "kernelspec": {
      "name": "python3",
      "display_name": "Python 3"
    },
    "language_info": {
      "name": "python"
    }
  },
  "cells": [
    {
      "cell_type": "markdown",
      "source": [
        "# WOC 4.0\n",
        ">> ### Machine Learning\n",
        ">>>> ###### IIT(ISM) Dhanabad\n",
        ">>>> ###### Arushika"
      ],
      "metadata": {
        "id": "oyru2oMQhw_h"
      }
    },
    {
      "cell_type": "markdown",
      "source": [
        "## Linear regression"
      ],
      "metadata": {
        "id": "WFnhDfzQh0I2"
      }
    },
    {
      "cell_type": "markdown",
      "source": [
        ">> ### Training set"
      ],
      "metadata": {
        "id": "Ojn3DZEEh1NO"
      }
    },
    {
      "cell_type": "code",
      "execution_count": null,
      "metadata": {
        "id": "PY96cFs6bq99"
      },
      "outputs": [],
      "source": [
        "import numpy as np\n",
        "import matplotlib.pyplot as pp\n",
        "import pandas as pd"
      ]
    },
    {
      "cell_type": "code",
      "source": [
        "# Loading dataset \n",
        "data = pd.read_csv('Linear_train.csv')\n",
        "data"
      ],
      "metadata": {
        "colab": {
          "base_uri": "https://localhost:8080/",
          "height": 505
        },
        "id": "Wq4m1FVocL1r",
        "outputId": "c0b28108-ba39-4b78-8b04-c2c0467004b2"
      },
      "execution_count": null,
      "outputs": [
        {
          "output_type": "execute_result",
          "data": {
            "text/plain": [
              "       Unnamed: 0          A            B          C          D          E  \\\n",
              "0               0  -9.989516  1564.957586   8.199060  32.508797  19.464400   \n",
              "1               1 -17.591800  1559.053039  12.302737 -36.351098   6.256406   \n",
              "2               2 -28.321695  1305.900952 -35.681049  -9.039358 -45.519426   \n",
              "3               3 -40.471241  1612.746996 -28.980454   2.137719 -34.767491   \n",
              "4               4 -36.525271  1852.275617 -32.744347  -1.439526 -14.061837   \n",
              "...           ...        ...          ...        ...        ...        ...   \n",
              "49995       49995  38.882059  1829.766795  -9.597762  42.286077 -45.676532   \n",
              "49996       49996 -29.570690  1467.757407  -2.581269   8.699766 -32.209400   \n",
              "49997       49997 -26.656483  1081.812179  19.742925 -49.109287  -8.179490   \n",
              "49998       49998  49.470595  1418.823031  14.854524  -6.995360  27.184947   \n",
              "49999       49999 -25.982072  1679.672351 -34.735487 -16.517472   6.606794   \n",
              "\n",
              "                 F          G          H            I  ...           L  \\\n",
              "0      1644.524093  26.100966  34.731954  4378.575414  ...  770.535311   \n",
              "1      1640.834263  12.954212 -43.333128  4833.766813  ...  997.260070   \n",
              "2      2039.003363  -0.154348  18.107957  4162.395297  ...  616.059291   \n",
              "3      2757.469393  23.857472 -48.434183  4340.953927  ...  715.537625   \n",
              "4      2138.422485  44.061988  33.336936  4099.453685  ...  629.221442   \n",
              "...            ...        ...        ...          ...  ...         ...   \n",
              "49995  2340.446842  44.758699 -49.232038  4561.096049  ...  931.215587   \n",
              "49996  2065.685621  13.244693 -27.154067  4922.613361  ...  646.439398   \n",
              "49997  1755.112415 -26.730046 -32.187078  4289.779346  ...  950.109763   \n",
              "49998  1235.231487  34.556613 -33.790945  4119.297411  ...  742.735044   \n",
              "49999  2375.299327  33.975192  -8.225393  4017.898569  ...  888.777601   \n",
              "\n",
              "               M          N          O          P          Q          R  \\\n",
              "0      30.060441 -25.002361  11.892468 -34.329383  37.218423  -4.440530   \n",
              "1      -1.329145  16.022086  42.972484  -7.372877  45.550946  37.576551   \n",
              "2      -6.997085  27.846844  26.511376  19.323152 -35.807513  -5.913019   \n",
              "3     -12.441561  47.883435  36.994884  30.783992  22.162383  16.465836   \n",
              "4      10.992360 -47.143335  -8.296962  -8.086565  39.169726 -49.540056   \n",
              "...          ...        ...        ...        ...        ...        ...   \n",
              "49995 -19.667192  20.825892  18.055764 -40.074521  44.966776  30.681416   \n",
              "49996  45.407497 -41.574684 -41.278010  34.484129  16.631234 -10.488980   \n",
              "49997  -1.341077 -33.268738  32.604813 -17.198521 -29.136001  24.609231   \n",
              "49998 -48.406474  -4.081799  20.777856 -49.422060 -31.251860 -27.546928   \n",
              "49999  33.897617 -25.710304  27.512513  29.199493  29.509718 -47.344110   \n",
              "\n",
              "               S          T         label  \n",
              "0      29.075092  29.107896    311.232491  \n",
              "1      12.926551 -32.565844   6393.112342  \n",
              "2      15.046779 -34.332357   2601.046223  \n",
              "3      41.435425  33.561233  13572.118106  \n",
              "4     -32.518653 -36.320202  -5462.446898  \n",
              "...          ...        ...           ...  \n",
              "49995  38.376682  33.942225   9034.945727  \n",
              "49996 -11.637358 -25.774032  -6345.178110  \n",
              "49997  11.935784 -35.190456   1483.917022  \n",
              "49998  38.121308 -10.588040  10720.139180  \n",
              "49999  -3.357583 -48.462504   2185.127958  \n",
              "\n",
              "[50000 rows x 22 columns]"
            ],
            "text/html": [
              "\n",
              "  <div id=\"df-c0d9f89b-d6c3-4218-b3bc-dee483d211e1\">\n",
              "    <div class=\"colab-df-container\">\n",
              "      <div>\n",
              "<style scoped>\n",
              "    .dataframe tbody tr th:only-of-type {\n",
              "        vertical-align: middle;\n",
              "    }\n",
              "\n",
              "    .dataframe tbody tr th {\n",
              "        vertical-align: top;\n",
              "    }\n",
              "\n",
              "    .dataframe thead th {\n",
              "        text-align: right;\n",
              "    }\n",
              "</style>\n",
              "<table border=\"1\" class=\"dataframe\">\n",
              "  <thead>\n",
              "    <tr style=\"text-align: right;\">\n",
              "      <th></th>\n",
              "      <th>Unnamed: 0</th>\n",
              "      <th>A</th>\n",
              "      <th>B</th>\n",
              "      <th>C</th>\n",
              "      <th>D</th>\n",
              "      <th>E</th>\n",
              "      <th>F</th>\n",
              "      <th>G</th>\n",
              "      <th>H</th>\n",
              "      <th>I</th>\n",
              "      <th>...</th>\n",
              "      <th>L</th>\n",
              "      <th>M</th>\n",
              "      <th>N</th>\n",
              "      <th>O</th>\n",
              "      <th>P</th>\n",
              "      <th>Q</th>\n",
              "      <th>R</th>\n",
              "      <th>S</th>\n",
              "      <th>T</th>\n",
              "      <th>label</th>\n",
              "    </tr>\n",
              "  </thead>\n",
              "  <tbody>\n",
              "    <tr>\n",
              "      <th>0</th>\n",
              "      <td>0</td>\n",
              "      <td>-9.989516</td>\n",
              "      <td>1564.957586</td>\n",
              "      <td>8.199060</td>\n",
              "      <td>32.508797</td>\n",
              "      <td>19.464400</td>\n",
              "      <td>1644.524093</td>\n",
              "      <td>26.100966</td>\n",
              "      <td>34.731954</td>\n",
              "      <td>4378.575414</td>\n",
              "      <td>...</td>\n",
              "      <td>770.535311</td>\n",
              "      <td>30.060441</td>\n",
              "      <td>-25.002361</td>\n",
              "      <td>11.892468</td>\n",
              "      <td>-34.329383</td>\n",
              "      <td>37.218423</td>\n",
              "      <td>-4.440530</td>\n",
              "      <td>29.075092</td>\n",
              "      <td>29.107896</td>\n",
              "      <td>311.232491</td>\n",
              "    </tr>\n",
              "    <tr>\n",
              "      <th>1</th>\n",
              "      <td>1</td>\n",
              "      <td>-17.591800</td>\n",
              "      <td>1559.053039</td>\n",
              "      <td>12.302737</td>\n",
              "      <td>-36.351098</td>\n",
              "      <td>6.256406</td>\n",
              "      <td>1640.834263</td>\n",
              "      <td>12.954212</td>\n",
              "      <td>-43.333128</td>\n",
              "      <td>4833.766813</td>\n",
              "      <td>...</td>\n",
              "      <td>997.260070</td>\n",
              "      <td>-1.329145</td>\n",
              "      <td>16.022086</td>\n",
              "      <td>42.972484</td>\n",
              "      <td>-7.372877</td>\n",
              "      <td>45.550946</td>\n",
              "      <td>37.576551</td>\n",
              "      <td>12.926551</td>\n",
              "      <td>-32.565844</td>\n",
              "      <td>6393.112342</td>\n",
              "    </tr>\n",
              "    <tr>\n",
              "      <th>2</th>\n",
              "      <td>2</td>\n",
              "      <td>-28.321695</td>\n",
              "      <td>1305.900952</td>\n",
              "      <td>-35.681049</td>\n",
              "      <td>-9.039358</td>\n",
              "      <td>-45.519426</td>\n",
              "      <td>2039.003363</td>\n",
              "      <td>-0.154348</td>\n",
              "      <td>18.107957</td>\n",
              "      <td>4162.395297</td>\n",
              "      <td>...</td>\n",
              "      <td>616.059291</td>\n",
              "      <td>-6.997085</td>\n",
              "      <td>27.846844</td>\n",
              "      <td>26.511376</td>\n",
              "      <td>19.323152</td>\n",
              "      <td>-35.807513</td>\n",
              "      <td>-5.913019</td>\n",
              "      <td>15.046779</td>\n",
              "      <td>-34.332357</td>\n",
              "      <td>2601.046223</td>\n",
              "    </tr>\n",
              "    <tr>\n",
              "      <th>3</th>\n",
              "      <td>3</td>\n",
              "      <td>-40.471241</td>\n",
              "      <td>1612.746996</td>\n",
              "      <td>-28.980454</td>\n",
              "      <td>2.137719</td>\n",
              "      <td>-34.767491</td>\n",
              "      <td>2757.469393</td>\n",
              "      <td>23.857472</td>\n",
              "      <td>-48.434183</td>\n",
              "      <td>4340.953927</td>\n",
              "      <td>...</td>\n",
              "      <td>715.537625</td>\n",
              "      <td>-12.441561</td>\n",
              "      <td>47.883435</td>\n",
              "      <td>36.994884</td>\n",
              "      <td>30.783992</td>\n",
              "      <td>22.162383</td>\n",
              "      <td>16.465836</td>\n",
              "      <td>41.435425</td>\n",
              "      <td>33.561233</td>\n",
              "      <td>13572.118106</td>\n",
              "    </tr>\n",
              "    <tr>\n",
              "      <th>4</th>\n",
              "      <td>4</td>\n",
              "      <td>-36.525271</td>\n",
              "      <td>1852.275617</td>\n",
              "      <td>-32.744347</td>\n",
              "      <td>-1.439526</td>\n",
              "      <td>-14.061837</td>\n",
              "      <td>2138.422485</td>\n",
              "      <td>44.061988</td>\n",
              "      <td>33.336936</td>\n",
              "      <td>4099.453685</td>\n",
              "      <td>...</td>\n",
              "      <td>629.221442</td>\n",
              "      <td>10.992360</td>\n",
              "      <td>-47.143335</td>\n",
              "      <td>-8.296962</td>\n",
              "      <td>-8.086565</td>\n",
              "      <td>39.169726</td>\n",
              "      <td>-49.540056</td>\n",
              "      <td>-32.518653</td>\n",
              "      <td>-36.320202</td>\n",
              "      <td>-5462.446898</td>\n",
              "    </tr>\n",
              "    <tr>\n",
              "      <th>...</th>\n",
              "      <td>...</td>\n",
              "      <td>...</td>\n",
              "      <td>...</td>\n",
              "      <td>...</td>\n",
              "      <td>...</td>\n",
              "      <td>...</td>\n",
              "      <td>...</td>\n",
              "      <td>...</td>\n",
              "      <td>...</td>\n",
              "      <td>...</td>\n",
              "      <td>...</td>\n",
              "      <td>...</td>\n",
              "      <td>...</td>\n",
              "      <td>...</td>\n",
              "      <td>...</td>\n",
              "      <td>...</td>\n",
              "      <td>...</td>\n",
              "      <td>...</td>\n",
              "      <td>...</td>\n",
              "      <td>...</td>\n",
              "      <td>...</td>\n",
              "    </tr>\n",
              "    <tr>\n",
              "      <th>49995</th>\n",
              "      <td>49995</td>\n",
              "      <td>38.882059</td>\n",
              "      <td>1829.766795</td>\n",
              "      <td>-9.597762</td>\n",
              "      <td>42.286077</td>\n",
              "      <td>-45.676532</td>\n",
              "      <td>2340.446842</td>\n",
              "      <td>44.758699</td>\n",
              "      <td>-49.232038</td>\n",
              "      <td>4561.096049</td>\n",
              "      <td>...</td>\n",
              "      <td>931.215587</td>\n",
              "      <td>-19.667192</td>\n",
              "      <td>20.825892</td>\n",
              "      <td>18.055764</td>\n",
              "      <td>-40.074521</td>\n",
              "      <td>44.966776</td>\n",
              "      <td>30.681416</td>\n",
              "      <td>38.376682</td>\n",
              "      <td>33.942225</td>\n",
              "      <td>9034.945727</td>\n",
              "    </tr>\n",
              "    <tr>\n",
              "      <th>49996</th>\n",
              "      <td>49996</td>\n",
              "      <td>-29.570690</td>\n",
              "      <td>1467.757407</td>\n",
              "      <td>-2.581269</td>\n",
              "      <td>8.699766</td>\n",
              "      <td>-32.209400</td>\n",
              "      <td>2065.685621</td>\n",
              "      <td>13.244693</td>\n",
              "      <td>-27.154067</td>\n",
              "      <td>4922.613361</td>\n",
              "      <td>...</td>\n",
              "      <td>646.439398</td>\n",
              "      <td>45.407497</td>\n",
              "      <td>-41.574684</td>\n",
              "      <td>-41.278010</td>\n",
              "      <td>34.484129</td>\n",
              "      <td>16.631234</td>\n",
              "      <td>-10.488980</td>\n",
              "      <td>-11.637358</td>\n",
              "      <td>-25.774032</td>\n",
              "      <td>-6345.178110</td>\n",
              "    </tr>\n",
              "    <tr>\n",
              "      <th>49997</th>\n",
              "      <td>49997</td>\n",
              "      <td>-26.656483</td>\n",
              "      <td>1081.812179</td>\n",
              "      <td>19.742925</td>\n",
              "      <td>-49.109287</td>\n",
              "      <td>-8.179490</td>\n",
              "      <td>1755.112415</td>\n",
              "      <td>-26.730046</td>\n",
              "      <td>-32.187078</td>\n",
              "      <td>4289.779346</td>\n",
              "      <td>...</td>\n",
              "      <td>950.109763</td>\n",
              "      <td>-1.341077</td>\n",
              "      <td>-33.268738</td>\n",
              "      <td>32.604813</td>\n",
              "      <td>-17.198521</td>\n",
              "      <td>-29.136001</td>\n",
              "      <td>24.609231</td>\n",
              "      <td>11.935784</td>\n",
              "      <td>-35.190456</td>\n",
              "      <td>1483.917022</td>\n",
              "    </tr>\n",
              "    <tr>\n",
              "      <th>49998</th>\n",
              "      <td>49998</td>\n",
              "      <td>49.470595</td>\n",
              "      <td>1418.823031</td>\n",
              "      <td>14.854524</td>\n",
              "      <td>-6.995360</td>\n",
              "      <td>27.184947</td>\n",
              "      <td>1235.231487</td>\n",
              "      <td>34.556613</td>\n",
              "      <td>-33.790945</td>\n",
              "      <td>4119.297411</td>\n",
              "      <td>...</td>\n",
              "      <td>742.735044</td>\n",
              "      <td>-48.406474</td>\n",
              "      <td>-4.081799</td>\n",
              "      <td>20.777856</td>\n",
              "      <td>-49.422060</td>\n",
              "      <td>-31.251860</td>\n",
              "      <td>-27.546928</td>\n",
              "      <td>38.121308</td>\n",
              "      <td>-10.588040</td>\n",
              "      <td>10720.139180</td>\n",
              "    </tr>\n",
              "    <tr>\n",
              "      <th>49999</th>\n",
              "      <td>49999</td>\n",
              "      <td>-25.982072</td>\n",
              "      <td>1679.672351</td>\n",
              "      <td>-34.735487</td>\n",
              "      <td>-16.517472</td>\n",
              "      <td>6.606794</td>\n",
              "      <td>2375.299327</td>\n",
              "      <td>33.975192</td>\n",
              "      <td>-8.225393</td>\n",
              "      <td>4017.898569</td>\n",
              "      <td>...</td>\n",
              "      <td>888.777601</td>\n",
              "      <td>33.897617</td>\n",
              "      <td>-25.710304</td>\n",
              "      <td>27.512513</td>\n",
              "      <td>29.199493</td>\n",
              "      <td>29.509718</td>\n",
              "      <td>-47.344110</td>\n",
              "      <td>-3.357583</td>\n",
              "      <td>-48.462504</td>\n",
              "      <td>2185.127958</td>\n",
              "    </tr>\n",
              "  </tbody>\n",
              "</table>\n",
              "<p>50000 rows × 22 columns</p>\n",
              "</div>\n",
              "      <button class=\"colab-df-convert\" onclick=\"convertToInteractive('df-c0d9f89b-d6c3-4218-b3bc-dee483d211e1')\"\n",
              "              title=\"Convert this dataframe to an interactive table.\"\n",
              "              style=\"display:none;\">\n",
              "        \n",
              "  <svg xmlns=\"http://www.w3.org/2000/svg\" height=\"24px\"viewBox=\"0 0 24 24\"\n",
              "       width=\"24px\">\n",
              "    <path d=\"M0 0h24v24H0V0z\" fill=\"none\"/>\n",
              "    <path d=\"M18.56 5.44l.94 2.06.94-2.06 2.06-.94-2.06-.94-.94-2.06-.94 2.06-2.06.94zm-11 1L8.5 8.5l.94-2.06 2.06-.94-2.06-.94L8.5 2.5l-.94 2.06-2.06.94zm10 10l.94 2.06.94-2.06 2.06-.94-2.06-.94-.94-2.06-.94 2.06-2.06.94z\"/><path d=\"M17.41 7.96l-1.37-1.37c-.4-.4-.92-.59-1.43-.59-.52 0-1.04.2-1.43.59L10.3 9.45l-7.72 7.72c-.78.78-.78 2.05 0 2.83L4 21.41c.39.39.9.59 1.41.59.51 0 1.02-.2 1.41-.59l7.78-7.78 2.81-2.81c.8-.78.8-2.07 0-2.86zM5.41 20L4 18.59l7.72-7.72 1.47 1.35L5.41 20z\"/>\n",
              "  </svg>\n",
              "      </button>\n",
              "      \n",
              "  <style>\n",
              "    .colab-df-container {\n",
              "      display:flex;\n",
              "      flex-wrap:wrap;\n",
              "      gap: 12px;\n",
              "    }\n",
              "\n",
              "    .colab-df-convert {\n",
              "      background-color: #E8F0FE;\n",
              "      border: none;\n",
              "      border-radius: 50%;\n",
              "      cursor: pointer;\n",
              "      display: none;\n",
              "      fill: #1967D2;\n",
              "      height: 32px;\n",
              "      padding: 0 0 0 0;\n",
              "      width: 32px;\n",
              "    }\n",
              "\n",
              "    .colab-df-convert:hover {\n",
              "      background-color: #E2EBFA;\n",
              "      box-shadow: 0px 1px 2px rgba(60, 64, 67, 0.3), 0px 1px 3px 1px rgba(60, 64, 67, 0.15);\n",
              "      fill: #174EA6;\n",
              "    }\n",
              "\n",
              "    [theme=dark] .colab-df-convert {\n",
              "      background-color: #3B4455;\n",
              "      fill: #D2E3FC;\n",
              "    }\n",
              "\n",
              "    [theme=dark] .colab-df-convert:hover {\n",
              "      background-color: #434B5C;\n",
              "      box-shadow: 0px 1px 3px 1px rgba(0, 0, 0, 0.15);\n",
              "      filter: drop-shadow(0px 1px 2px rgba(0, 0, 0, 0.3));\n",
              "      fill: #FFFFFF;\n",
              "    }\n",
              "  </style>\n",
              "\n",
              "      <script>\n",
              "        const buttonEl =\n",
              "          document.querySelector('#df-c0d9f89b-d6c3-4218-b3bc-dee483d211e1 button.colab-df-convert');\n",
              "        buttonEl.style.display =\n",
              "          google.colab.kernel.accessAllowed ? 'block' : 'none';\n",
              "\n",
              "        async function convertToInteractive(key) {\n",
              "          const element = document.querySelector('#df-c0d9f89b-d6c3-4218-b3bc-dee483d211e1');\n",
              "          const dataTable =\n",
              "            await google.colab.kernel.invokeFunction('convertToInteractive',\n",
              "                                                     [key], {});\n",
              "          if (!dataTable) return;\n",
              "\n",
              "          const docLinkHtml = 'Like what you see? Visit the ' +\n",
              "            '<a target=\"_blank\" href=https://colab.research.google.com/notebooks/data_table.ipynb>data table notebook</a>'\n",
              "            + ' to learn more about interactive tables.';\n",
              "          element.innerHTML = '';\n",
              "          dataTable['output_type'] = 'display_data';\n",
              "          await google.colab.output.renderOutput(dataTable, element);\n",
              "          const docLink = document.createElement('div');\n",
              "          docLink.innerHTML = docLinkHtml;\n",
              "          element.appendChild(docLink);\n",
              "        }\n",
              "      </script>\n",
              "    </div>\n",
              "  </div>\n",
              "  "
            ]
          },
          "metadata": {},
          "execution_count": 386
        }
      ]
    },
    {
      "cell_type": "code",
      "source": [
        "# From the dataset seperating x and y \n",
        "\n",
        "# X-matrice is supposed to be a m x (n+1) dimensional matrice\n",
        "# where n = Number of different features present \n",
        "#       m = Number of enteries in each feature\n",
        "X_1 = data.iloc[:,1:21] # for m x n dimensional \n",
        "ones = np.ones([X_1.shape[0],1]) #This is done because for convinience X_0 is considered to have entering of only 1(for simplicity)\n",
        "X_1 = np.concatenate ((ones , X_1) , axis=1)\n",
        "# y-matrice is supposed to be a m x 1 dimensional matrice \n",
        "y_1 = data.iloc[:,21:22].values\n",
        " \n",
        "# Matrice of theta(coefficient of the features in hypothesis function) is supposed to a 1 x (n+1) dimensional matrice\n",
        "theta = np.zeros([1,21])\n",
        "\n",
        "X_2 = data.iloc[:,0:1].values"
      ],
      "metadata": {
        "id": "4tZ8vZXWcbvx"
      },
      "execution_count": null,
      "outputs": []
    },
    {
      "cell_type": "code",
      "source": [
        "X_1 = (X_1 - X_1.mean()) / X_1.std()"
      ],
      "metadata": {
        "id": "Xg954X4rKTRY"
      },
      "execution_count": null,
      "outputs": []
    },
    {
      "cell_type": "code",
      "source": [
        "pp.scatter(X_2,y_1)"
      ],
      "metadata": {
        "colab": {
          "base_uri": "https://localhost:8080/",
          "height": 282
        },
        "id": "t7fBhtS5hWjz",
        "outputId": "08f86142-403e-49bb-a61d-0460e4958f73"
      },
      "execution_count": null,
      "outputs": [
        {
          "output_type": "execute_result",
          "data": {
            "text/plain": [
              "<matplotlib.collections.PathCollection at 0x7f57ba1fa410>"
            ]
          },
          "metadata": {},
          "execution_count": 398
        },
        {
          "output_type": "display_data",
          "data": {
            "text/plain": [
              "<Figure size 432x288 with 1 Axes>"
            ],
            "image/png": "[encoded data removed]"
          },
          "metadata": {
            "needs_background": "light"
          }
        }
      ]
    },
    {
      "cell_type": "code",
      "source": [
        "m,n = X_1.shape"
      ],
      "metadata": {
        "id": "L3-W1SH2cm91"
      },
      "execution_count": null,
      "outputs": []
    },
    {
      "cell_type": "code",
      "source": [
        "#mean=np.mean(X_1,axis=1).reshape((m,1))\n",
        "#std=np.std(X_1,axis=1).reshape((m,1))\n",
        "#X_1=(X_1-mean)/std"
      ],
      "metadata": {
        "id": "gzIqvTS8cWEw"
      },
      "execution_count": null,
      "outputs": []
    },
    {
      "cell_type": "markdown",
      "source": [
        "`Hypothesis` is:\n",
        "</br></br>\n",
        "<b> h(theta)= (theta.T)*X "
      ],
      "metadata": {
        "id": "9_avVHXEh9Dh"
      }
    },
    {
      "cell_type": "markdown",
      "source": [
        "To predict matrice of theta, we minimise the `cost function` which is basically minimising the `L2 loss`. \n",
        "Which in turn says, the hypothesis closely passes through the output. Hence, Giving us a perfect ground to predict the values further through regression."
      ],
      "metadata": {
        "id": "gvA26dvFh945"
      }
    },
    {
      "cell_type": "code",
      "source": [
        "#Defining Cost function\n",
        "def computeCost(X,y,theta):\n",
        "    tobesummed = np.power(((X @ theta.T)-y),2)\n",
        "    return np.sum(tobesummed)/(2 * len(X))"
      ],
      "metadata": {
        "id": "gTI5W1-cc9Ee"
      },
      "execution_count": null,
      "outputs": []
    },
    {
      "cell_type": "markdown",
      "source": [
        "To minimise the cost we use some algorithms. The most basic of all the algorithms but still one of the most important algorithm is that of `Gradient Descent`.This method is somewhat like hit and trial. Here we minimise the value of theta in each iteration. Till the cost funtion stops minimising or the cost funtion's value becomes static. </br>\n",
        "This minimising of cost function depends on `alpha` which is called the learning rate. There can be different scenerios based on the value of alpha:\n",
        "* if alpha is very large then the value can overshoot \n",
        "* if alpha is very small then it will take infinite no. of iteration to reach the lowest value "
      ],
      "metadata": {
        "id": "6cf4NFQTiChr"
      }
    },
    {
      "cell_type": "code",
      "source": [
        "#Defining gradient descent\n",
        "def gradientDescent(X,y,theta,iters,alpha):\n",
        "    cost = np.zeros(iters)\n",
        "    for i in range(iters):\n",
        "        theta = theta - (alpha/len(X)) * np.sum(X * (X @ theta.T - y), axis=0)\n",
        "        cost[i] = computeCost(X, y, theta)\n",
        "    \n",
        "    return theta,cost"
      ],
      "metadata": {
        "id": "ZlfaIrr1c9Bg"
      },
      "execution_count": null,
      "outputs": []
    },
    {
      "cell_type": "code",
      "source": [
        "# Setting Hyperparameters\n",
        "#@title Setting Hypermeters:\n",
        "Alpha = 0.07#@param {type:\"slider\", min:0, max:1, step:0.0000001}\n",
        "iters = 100000 #@param {type:\"slider\", min:200, max:10000000, step:100}\n",
        "alpha= Alpha"
      ],
      "metadata": {
        "id": "Gel7APzRc3qf"
      },
      "execution_count": null,
      "outputs": []
    },
    {
      "cell_type": "code",
      "source": [
        "#running the gd and cost function\n",
        "g,cost = gradientDescent(X_1,y_1,theta,iters,alpha)\n",
        "print(g)\n",
        "\n",
        "finalCost = computeCost(X_1,y_1,g)\n",
        "print(finalCost)"
      ],
      "metadata": {
        "id": "E2iv0i3Sc802"
      },
      "execution_count": null,
      "outputs": []
    },
    {
      "cell_type": "code",
      "source": [
        "g = np.asarray(g)"
      ],
      "metadata": {
        "id": "kYUXzRPPdDat"
      },
      "execution_count": null,
      "outputs": []
    },
    {
      "cell_type": "code",
      "source": [
        "y_pred = np.dot(X_1 , g.T)\n",
        "y_pred"
      ],
      "metadata": {
        "id": "1mlm_bUIdDYV"
      },
      "execution_count": null,
      "outputs": []
    },
    {
      "cell_type": "code",
      "source": [
        "y_1"
      ],
      "metadata": {
        "id": "SYewhZ6kdDM0"
      },
      "execution_count": null,
      "outputs": []
    },
    {
      "cell_type": "code",
      "source": [
        "# Calculating the value of RMSE\n",
        "np.sqrt(np.sum(((y_1-y_pred)**2).mean()))"
      ],
      "metadata": {
        "id": "cLDgzoO3dQPl"
      },
      "execution_count": null,
      "outputs": []
    },
    {
      "cell_type": "code",
      "source": [
        "#plot the cost\n",
        "fig, ax = pp.subplots()  \n",
        "ax.plot(np.arange(iters), cost, 'r')  \n",
        "ax.set_xlabel('Iterations')  \n",
        "ax.set_ylabel('Cost')  \n",
        "ax.set_title('Error vs. Training Epoch')"
      ],
      "metadata": {
        "id": "u_etVLTSgqbb"
      },
      "execution_count": null,
      "outputs": []
    },
    {
      "cell_type": "markdown",
      "source": [
        "# Test dataset\n"
      ],
      "metadata": {
        "id": "9Cajp-QVezp-"
      }
    },
    {
      "cell_type": "markdown",
      "source": [
        "**Now applying the above obtained coefficients and value of alpha, We plot a graph for the test data set to see if the hypothesis is correct.**"
      ],
      "metadata": {
        "id": "CWlCLZ1RiHJS"
      }
    },
    {
      "cell_type": "code",
      "source": [
        "data_  = pd.read_csv('Linear_test.csv')"
      ],
      "metadata": {
        "id": "1zF8z14zezO2"
      },
      "execution_count": null,
      "outputs": []
    },
    {
      "cell_type": "code",
      "source": [
        "data_"
      ],
      "metadata": {
        "id": "rioXsdSNfwvC"
      },
      "execution_count": null,
      "outputs": []
    },
    {
      "cell_type": "code",
      "source": [
        "# From the dataset seperating x and y \n",
        "\n",
        "# X-matrice is supposed to be a m x (n+1) dimensional matrice\n",
        "# where n = Number of different features present \n",
        "#       m = Number of enteries in each feature\n",
        "X_3 = data_.iloc[:,1:21] # for m x n dimensional \n",
        "ones = np.ones([X_3.shape[0],1]) #This is done because for convinience X_0 is considered to have entering of only 1(for simplicity)\n",
        "X_3 = np.concatenate ((ones , X_3) , axis=1)\n",
        "# y-matrice is supposed to be a m x 1 dimensional matrice \n",
        "y_3 = data_.iloc[:,21:22].values\n",
        "\n",
        "X_4 = data_.iloc[:,0:1].values"
      ],
      "metadata": {
        "id": "DrLwU7kAe6wD"
      },
      "execution_count": null,
      "outputs": []
    },
    {
      "cell_type": "code",
      "source": [
        "m,n = X_3.shape"
      ],
      "metadata": {
        "id": "_wi6oqytfBqO"
      },
      "execution_count": null,
      "outputs": []
    },
    {
      "cell_type": "code",
      "source": [
        "mean=np.mean(X_3,axis=1).reshape((m,1))\n",
        "std=np.std(X_3,axis=1).reshape((m,1))\n",
        "X_3=(X_3-mean)/std"
      ],
      "metadata": {
        "id": "3T6sm-U9fFus"
      },
      "execution_count": null,
      "outputs": []
    },
    {
      "cell_type": "code",
      "source": [
        "g.shape"
      ],
      "metadata": {
        "id": "XIUp-Wypfm8y"
      },
      "execution_count": null,
      "outputs": []
    },
    {
      "cell_type": "code",
      "source": [
        "X_3.shape"
      ],
      "metadata": {
        "id": "TjV319oYforz"
      },
      "execution_count": null,
      "outputs": []
    },
    {
      "cell_type": "code",
      "source": [
        "y_pred_ = np.dot(X_3 , g.T)\n",
        "y_pred_"
      ],
      "metadata": {
        "id": "L0RHMZ_QfP2m"
      },
      "execution_count": null,
      "outputs": []
    },
    {
      "cell_type": "code",
      "source": [
        "y_3"
      ],
      "metadata": {
        "id": "Rj9kJUk1ivXU"
      },
      "execution_count": null,
      "outputs": []
    },
    {
      "cell_type": "code",
      "source": [
        "# Calculating the value of RMSE\n",
        "np.sqrt(np.sum(((y_3-y_pred_)**2).mean()))"
      ],
      "metadata": {
        "colab": {
          "base_uri": "https://localhost:8080/"
        },
        "id": "at2bfio1fPzP",
        "outputId": "ad5aa3e7-cfba-4c03-9ef2-f408044f257e"
      },
      "execution_count": null,
      "outputs": [
        {
          "output_type": "execute_result",
          "data": {
            "text/plain": [
              "4915.5865067642"
            ]
          },
          "metadata": {},
          "execution_count": 330
        }
      ]
    },
    {
      "cell_type": "markdown",
      "source": [
        "What is a good RMSE value?\n",
        "\n",
        "The short answer: `**It depends**.`\n",
        "<br><br>\n",
        "The lower the RMSE, the better a given model is able to “fit” a dataset. However, the range of the dataset you’re working with is important in determining whether or not a given RMSE value is “low” or not.\n",
        "<br><br>\n",
        "Going by this logic as the value of y_test is small and the rmse is very very small so it shows the model is working well and fits the data well."
      ],
      "metadata": {
        "id": "ncB--DSiiN68"
      }
    },
    {
      "cell_type": "markdown",
      "source": [
        "As the results of y predicted by the hypothesis function is same as that of the labels given in the dataset. Hence, proved that the linear regression is the perfect choice for the dataset provided."
      ],
      "metadata": {
        "id": "26HmSXMxiQXp"
      }
    },
    {
      "cell_type": "code",
      "source": [
        "#plot the cost\n",
        "fig, ax = pp.subplots()  \n",
        "ax.plot(np.arange(iters), cost, 'r')  \n",
        "ax.set_xlabel('Iterations')  \n",
        "ax.set_ylabel('Cost')  \n",
        "ax.set_title('Error vs. Training Epoch')"
      ],
      "metadata": {
        "colab": {
          "base_uri": "https://localhost:8080/",
          "height": 312
        },
        "id": "jhZJBrjDiRFo",
        "outputId": "824484e5-7bb6-4843-c527-2839970d6daa"
      },
      "execution_count": null,
      "outputs": [
        {
          "output_type": "execute_result",
          "data": {
            "text/plain": [
              "Text(0.5, 1.0, 'Error vs. Training Epoch')"
            ]
          },
          "metadata": {},
          "execution_count": 331
        },
        {
          "output_type": "display_data",
          "data": {
            "text/plain": [
              "<Figure size 432x288 with 1 Axes>"
            ],
            "image/png": "[encoded data removed]"
          },
          "metadata": {
            "needs_background": "light"
          }
        }
      ]
    },
    {
      "cell_type": "markdown",
      "source": [
        "# <b> Plotting (Linear Regression)\n",
        "ploting the datasets training and test \n",
        "and then them together."
      ],
      "metadata": {
        "id": "3Pej5pUwiVnu"
      }
    },
    {
      "cell_type": "code",
      "source": [
        "fig = pp.figure()\n",
        "ax1 = fig.add_subplot(111)\n",
        "ax1.scatter(X_2, y_1, s = 10, c = 'b', label = 'training set')\n",
        "ax1.scatter(X_4, y_3, s = 10, c = 'r', label = 'test set')\n",
        "pp.legend(loc='upper right');\n",
        "pp.show()"
      ],
      "metadata": {
        "colab": {
          "base_uri": "https://localhost:8080/",
          "height": 265
        },
        "id": "-GmdaUvOiWYW",
        "outputId": "e075b162-e906-445e-f04c-ce808de65330"
      },
      "execution_count": null,
      "outputs": [
        {
          "output_type": "display_data",
          "data": {
            "text/plain": [
              "<Figure size 432x288 with 1 Axes>"
            ],
            "image/png": "[encoded data removed]"
          },
          "metadata": {
            "needs_background": "light"
          }
        }
      ]
    }
  ]
}